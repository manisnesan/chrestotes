{
 "cells": [
  {
   "cell_type": "markdown",
   "metadata": {},
   "source": [
    "## Self-Solve is the default"
   ]
  },
  {
   "cell_type": "markdown",
   "metadata": {},
   "source": [
    "Guidelines\n",
    "- Intro to the slides\n",
    "- Talking points\n",
    "- Emphasis on the takeaway"
   ]
  },
  {
   "cell_type": "markdown",
   "metadata": {},
   "source": [
    "When you are visiting airports, cinema theatres, restaurants, shopping stores you are more likely to see atleast one self-service option available. This could be in the form of passenger checkins in the airports, self-checkout options in the grocery stores, digital order menus in restaurants. These are ways to allows the customers avoid waiting in line & saves time.\n",
    "\n",
    "Self-Service is ubiquitous and will be the default way of delivering service. With the ongoing pandemic governments are enforcing the rules for businesses to minimize the human touchpoints. \n",
    "\n",
    "When customers have questions about your products or using your service, they hate to wait in phone lines and expect the businesses to have answers to their questions instantaneeously in the form of digital self-service tools like knowledgebase, faqs, community discussion forums, virtual assistants etc.\n",
    "\n",
    "The average customer gives more importance to digital businesses that values **customer convenience and time**. Self-solve tools allows to achieve both of these value propositions by empowering customers to answer their own questions/issues."
   ]
  },
  {
   "cell_type": "markdown",
   "metadata": {},
   "source": [
    "## Why self-solve essential for customer service(more than ever now)"
   ]
  },
  {
   "cell_type": "markdown",
   "metadata": {},
   "source": [
    "Due to pandemic, companies are seeing an increase in support case volume. There is a change in support agents working conditions where most or all of them are working from home. At the same time organizations are looking to cut costs in a downturn times like this. By accelerating their efforts on digital self-service tools in customer service automation, organizations can handle this increase load and also cut costs.\n",
    "\n",
    "Gartner’s 2019 Customer Service and Support Leader poll identified that live channels such as phone, live chat and email cost an average of $8.01 per contact, while self-service channels such as company-run websites and mobile apps cost about $0.10 per contact [1]\n",
    "[1] https://www.gartner.com/en/newsroom/press-releases/2019-09-25-gartner-says-only-9--of-customers-report-solving-thei\n",
    "\n",
    "If your business model is B2B, your support could be very well different from B2C. Here B2B may have fewer with significant customers and have issues ranging from simpe to more complex issues. Providing a knowledge centered support along with self solve tools. Solve Once but reuse the knowledge multiple times for your customers is a effective strategy to boost your customer loyalty and hence your retention. \n",
    "\n",
    "“Depending on your industry, acquiring a new customer is anywhere from 5 to 25 times more expensive than retaining an existing customer. To put it another way, a 5% increase in customer retention has the same effect as increasing profits by 25%.”\n",
    "\n",
    "Frederick Reichheld of Bain & Company\n",
    " \t(inventor of net promoter score)\n",
    "\n",
    "- Customers will always resort to live channels if the self-service options does not solve their issues. But when you have limited highly skilled representatives, one has to efficiently use these resources for more complex issues rather than for mundane questions where a simple faq would solve. Lot of context switching would impact the productivity of these support agents.\n"
   ]
  },
  {
   "cell_type": "markdown",
   "metadata": {},
   "source": [
    "## About Red Hat"
   ]
  },
  {
   "cell_type": "markdown",
   "metadata": {},
   "source": [
    "Red Hat is an Open Source Technology company for Enterprises.\n",
    "\n",
    "Our product offererings and solutions are in Hybrid Cloud Infrastructure space( allows our customers to build their sofware once and deploy anywhere in public, private or in their own datacenters), Cloud Native Development, Automation & Management space. \n",
    "\n",
    "We are in subscription based business model and make revenue through subscriptions rather than traditional licensing model. The value of subscriptions comes from our award winning customer portal that provides access to our support, documentation, knowledge base, timely security advisories and maintenance for our customers. "
   ]
  },
  {
   "cell_type": "markdown",
   "metadata": {},
   "source": [
    "## Self Solve Ingradeients so far"
   ]
  },
  {
   "cell_type": "markdown",
   "metadata": {},
   "source": [
    "In our journey to deliver self-solve, Search play a critical role as one the self-solve tools to ensure the knowledge resources, documentation, deployment tools are findable for our customers. \n",
    "\n",
    "Search is offered through two different interfaces Portal Search, our site search for the whole customer portal. And there is TROUBLESHOOT based search which I will cover in the next slide as part of case creation scenario. \n",
    "Portal Search is the traditional keyword AND operator based search(expecting all terms to be present) with BM25 similarity along with click signals boosting.\n",
    "\n",
    "In addition to search, these are additional important pieces critical to the self-solve,\n",
    "* User Experience that promotes the self-solve behaviors without enforcing upon the customer. If they feel they need to open a support case, they can immediately do so. \n",
    "* Support Workflow - Knowledge Centered Support where as part of case resolution, problem resolution and solution is captured in structured content and reused & made available for other customers & engineers.\n",
    "* Content: Have a good strategy in terms of managing your FAQs, Documentation and Knowledge Base with good keywords metadata are ways to provide effective self-solve\n",
    "\n",
    "Finallyt our search platform is powered by Apache Solr, Lucidworks Fusion, JBoss EAP."
   ]
  },
  {
   "cell_type": "markdown",
   "metadata": {},
   "source": [
    "## Support Request Workflow"
   ]
  },
  {
   "cell_type": "code",
   "execution_count": null,
   "metadata": {},
   "outputs": [],
   "source": []
  },
  {
   "cell_type": "markdown",
   "metadata": {},
   "source": [
    "Users visiting the site provide search input in both low intent but high volume and high intent keywords. They can be of the following nature\n",
    "a) knowledge discovery which are explorational in nature eg: podman, jboss\n",
    "b) usage which are task based (eg: how do I configure this)\n",
    "c) troubleshoot (eg: Pod crashloopbackoff)."
   ]
  },
  {
   "cell_type": "code",
   "execution_count": null,
   "metadata": {},
   "outputs": [],
   "source": []
  }
 ],
 "metadata": {
  "kernelspec": {
   "display_name": "Python [conda env:anlp] *",
   "language": "python",
   "name": "conda-env-anlp-py"
  },
  "language_info": {
   "codemirror_mode": {
    "name": "ipython",
    "version": 3
   },
   "file_extension": ".py",
   "mimetype": "text/x-python",
   "name": "python",
   "nbconvert_exporter": "python",
   "pygments_lexer": "ipython3",
   "version": "3.6.8"
  }
 },
 "nbformat": 4,
 "nbformat_minor": 4
}
