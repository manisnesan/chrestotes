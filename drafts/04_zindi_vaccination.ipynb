{
 "cells": [
  {
   "cell_type": "raw",
   "metadata": {},
   "source": [
    "---\n",
    "output-file: zindi_vaccination.html\n",
    "title: Outline\n",
    "\n",
    "---\n",
    "\n"
   ]
  },
  {
   "cell_type": "markdown",
   "metadata": {
    "colab_type": "text",
    "id": "c6qH3qyxZCyZ"
   },
   "source": [
    "Problem Understanding\n",
    "* Text Regression problem: The task is given the tweet text, we are expected to predict whether the given tweet is positive, negetive or neutral. The target variable value ranges from (-1, 1)"
   ]
  },
  {
   "cell_type": "markdown",
   "metadata": {
    "colab_type": "text",
    "id": "t1LVN6S1aGkO"
   },
   "source": [
    "## Setup"
   ]
  },
  {
   "cell_type": "code",
   "execution_count": null,
   "metadata": {
    "colab": {
     "base_uri": "https://localhost:8080/",
     "height": 51
    },
    "colab_type": "code",
    "id": "zeoBNDw3aJNK",
    "outputId": "37aa4cce-41f4-449d-ddc4-1bdfdfcc7d4b"
   },
   "outputs": [
    {
     "name": "stdout",
     "output_type": "stream",
     "text": [
      "\u001b[K     |████████████████████████████████| 194kB 2.8MB/s \n",
      "\u001b[K     |████████████████████████████████| 51kB 1.7MB/s \n",
      "\u001b[?25h"
     ]
    }
   ],
   "source": [
    "! pip install fastai2 -q\n",
    "! pip install nbdev -q"
   ]
  },
  {
   "cell_type": "code",
   "execution_count": null,
   "metadata": {
    "colab": {
     "base_uri": "https://localhost:8080/",
     "height": 34
    },
    "colab_type": "code",
    "id": "BKGFE_8_aTDr",
    "outputId": "7b34201b-85ad-46f7-c1a0-4d449e635a2b"
   },
   "outputs": [
    {
     "name": "stdout",
     "output_type": "stream",
     "text": [
      "0.0.17\n"
     ]
    }
   ],
   "source": [
    "import fastai2\n",
    "print(fastai2.__version__)"
   ]
  },
  {
   "cell_type": "markdown",
   "metadata": {
    "colab_type": "text",
    "id": "2UnTeABXaP2O"
   },
   "source": [
    "## Download the Dataset"
   ]
  },
  {
   "cell_type": "code",
   "execution_count": null,
   "metadata": {
    "colab": {
     "base_uri": "https://localhost:8080/",
     "height": 269
    },
    "colab_type": "code",
    "id": "2evatRtRajYp",
    "outputId": "f7906e9e-25e3-4680-abca-f07ad2b7ade9"
   },
   "outputs": [
    {
     "name": "stdout",
     "output_type": "stream",
     "text": [
      "--2020-05-17 16:48:37--  https://fastaistudygroup.slack.com/files/URA50KQ7R/F0140NHLB8Q/zindi_vaccinate.zip\n",
      "Resolving fastaistudygroup.slack.com (fastaistudygroup.slack.com)... 3.229.174.54, 54.209.135.9, 54.227.211.227\n",
      "Connecting to fastaistudygroup.slack.com (fastaistudygroup.slack.com)|3.229.174.54|:443... connected.\n",
      "HTTP request sent, awaiting response... 302 Found\n",
      "Location: https://fastaistudygroup.slack.com/?redir=%2Ffiles%2FURA50KQ7R%2FF0140NHLB8Q%2Fzindi_vaccinate.zip [following]\n",
      "--2020-05-17 16:48:37--  https://fastaistudygroup.slack.com/?redir=%2Ffiles%2FURA50KQ7R%2FF0140NHLB8Q%2Fzindi_vaccinate.zip\n",
      "Reusing existing connection to fastaistudygroup.slack.com:443.\n",
      "HTTP request sent, awaiting response... 200 OK\n",
      "Length: unspecified [text/html]\n",
      "Saving to: ‘zindi_vaccinate.zip’\n",
      "\n",
      "zindi_vaccinate.zip     [ <=>                ]  39.75K  --.-KB/s    in 0.01s   \n",
      "\n",
      "2020-05-17 16:48:37 (3.13 MB/s) - ‘zindi_vaccinate.zip’ saved [40702]\n",
      "\n"
     ]
    }
   ],
   "source": [
    "! wget \"https://fastaistudygroup.slack.com/files/URA50KQ7R/F0140NHLB8Q/zindi_vaccinate.zip\""
   ]
  },
  {
   "cell_type": "code",
   "execution_count": null,
   "metadata": {
    "colab": {
     "base_uri": "https://localhost:8080/",
     "height": 34
    },
    "colab_type": "code",
    "id": "cHWhGQvsa-IA",
    "outputId": "3f808719-c530-43f2-8310-331460fc4f15"
   },
   "outputs": [
    {
     "name": "stdout",
     "output_type": "stream",
     "text": [
      "/content\n"
     ]
    }
   ],
   "source": [
    "!pwd"
   ]
  },
  {
   "cell_type": "code",
   "execution_count": null,
   "metadata": {
    "colab": {},
    "colab_type": "code",
    "id": "OoyZGk4fbm0E"
   },
   "outputs": [],
   "source": [
    "data_dir = '/content/drive/My Drive/Colab Notebooks/data'"
   ]
  },
  {
   "cell_type": "code",
   "execution_count": null,
   "metadata": {
    "colab": {},
    "colab_type": "code",
    "id": "DT1zEQlqb3xd"
   },
   "outputs": [],
   "source": [
    "from pathlib import Path"
   ]
  },
  {
   "cell_type": "code",
   "execution_count": null,
   "metadata": {
    "colab": {},
    "colab_type": "code",
    "id": "Dg4zsVicbycm"
   },
   "outputs": [],
   "source": [
    "path = Path(data_dir)"
   ]
  },
  {
   "cell_type": "code",
   "execution_count": null,
   "metadata": {
    "colab": {
     "base_uri": "https://localhost:8080/",
     "height": 122
    },
    "colab_type": "code",
    "id": "IuRmYJj2b22_",
    "outputId": "8b5bb9f6-9dfa-447d-ff6b-56dfb8cb8eea"
   },
   "outputs": [
    {
     "name": "stdout",
     "output_type": "stream",
     "text": [
      "Go to this URL in a browser: https://accounts.google.com/o/oauth2/auth?client_id=947318989803-6bn6qk8qdgf4n4g3pfee6491hc0brc4i.apps.googleusercontent.com&redirect_uri=urn%3aietf%3awg%3aoauth%3a2.0%3aoob&response_type=code&scope=email%20https%3a%2f%2fwww.googleapis.com%2fauth%2fdocs.test%20https%3a%2f%2fwww.googleapis.com%2fauth%2fdrive%20https%3a%2f%2fwww.googleapis.com%2fauth%2fdrive.photos.readonly%20https%3a%2f%2fwww.googleapis.com%2fauth%2fpeopleapi.readonly\n",
      "\n",
      "Enter your authorization code:\n",
      "··········\n",
      "Mounted at /content/gdrive\n"
     ]
    }
   ],
   "source": [
    "# make your Google Drive accessible\n",
    "from google.colab import drive\n",
    "drive.mount('/content/gdrive', force_remount=True)\n",
    "\n",
    "root_dir = \"/content/gdrive/My Drive\"\n",
    "drive_data = f\"{root_dir}/Colab Notebooks/data/vaccination_tweet\""
   ]
  },
  {
   "cell_type": "code",
   "execution_count": null,
   "metadata": {
    "colab": {},
    "colab_type": "code",
    "id": "8eUoSOpLcWbP"
   },
   "outputs": [],
   "source": [
    "from fastai2.text.all import *"
   ]
  },
  {
   "cell_type": "code",
   "execution_count": null,
   "metadata": {
    "colab": {
     "base_uri": "https://localhost:8080/",
     "height": 54
    },
    "colab_type": "code",
    "id": "n9FnTw5dc_tH",
    "outputId": "f370448e-c7b8-4ff0-9040-bb78e6eb0e11"
   },
   "outputs": [
    {
     "data": {
      "text/plain": [
       "(#4) [Path('/content/gdrive/My Drive/Colab Notebooks/data/vaccination_tweet/SampleSubmission.csv'),Path('/content/gdrive/My Drive/Colab Notebooks/data/vaccination_tweet/Train.csv'),Path('/content/gdrive/My Drive/Colab Notebooks/data/vaccination_tweet/Test.csv'),Path('/content/gdrive/My Drive/Colab Notebooks/data/vaccination_tweet/models')]"
      ]
     },
     "execution_count": 17,
     "metadata": {
      "tags": []
     },
     "output_type": "execute_result"
    }
   ],
   "source": [
    "Path(drive_data).ls()"
   ]
  },
  {
   "cell_type": "code",
   "execution_count": null,
   "metadata": {
    "colab": {},
    "colab_type": "code",
    "id": "7D-KJ55zdHOf"
   },
   "outputs": [],
   "source": [
    "vaccinate_tweets = Path(drive_data)"
   ]
  },
  {
   "cell_type": "code",
   "execution_count": null,
   "metadata": {
    "colab": {},
    "colab_type": "code",
    "id": "HpBmfX2Ddxav"
   },
   "outputs": [],
   "source": [
    "Path.BASE_PATH = vaccinate_tweets"
   ]
  },
  {
   "cell_type": "code",
   "execution_count": null,
   "metadata": {
    "colab": {
     "base_uri": "https://localhost:8080/",
     "height": 34
    },
    "colab_type": "code",
    "id": "VwSMMUMqdz10",
    "outputId": "e095108c-744a-4f2d-b6c8-75c521ac0baa"
   },
   "outputs": [
    {
     "data": {
      "text/plain": [
       "(#4) [Path('SampleSubmission.csv'),Path('Train.csv'),Path('Test.csv'),Path('models')]"
      ]
     },
     "execution_count": 20,
     "metadata": {
      "tags": []
     },
     "output_type": "execute_result"
    }
   ],
   "source": [
    "Path(vaccinate_tweets).ls()"
   ]
  },
  {
   "cell_type": "code",
   "execution_count": null,
   "metadata": {
    "colab": {},
    "colab_type": "code",
    "id": "uUerzGQkc4f_"
   },
   "outputs": [],
   "source": [
    "train_df = pd.read_csv(vaccinate_tweets/'Train.csv')"
   ]
  },
  {
   "cell_type": "code",
   "execution_count": null,
   "metadata": {
    "colab": {
     "base_uri": "https://localhost:8080/",
     "height": 204
    },
    "colab_type": "code",
    "id": "aUfUqHkXd_Ig",
    "outputId": "0ccea78b-0a58-4bca-83c3-175beca253f8"
   },
   "outputs": [
    {
     "data": {
      "text/html": [
       "<div>\n",
       "<style scoped>\n",
       "    .dataframe tbody tr th:only-of-type {\n",
       "        vertical-align: middle;\n",
       "    }\n",
       "\n",
       "    .dataframe tbody tr th {\n",
       "        vertical-align: top;\n",
       "    }\n",
       "\n",
       "    .dataframe thead th {\n",
       "        text-align: right;\n",
       "    }\n",
       "</style>\n",
       "<table border=\"1\" class=\"dataframe\">\n",
       "  <thead>\n",
       "    <tr style=\"text-align: right;\">\n",
       "      <th></th>\n",
       "      <th>tweet_id</th>\n",
       "      <th>safe_text</th>\n",
       "      <th>label</th>\n",
       "      <th>agreement</th>\n",
       "    </tr>\n",
       "  </thead>\n",
       "  <tbody>\n",
       "    <tr>\n",
       "      <th>0</th>\n",
       "      <td>CL1KWCMY</td>\n",
       "      <td>Me &amp;amp; The Big Homie meanboy3000 #MEANBOY #MB #MBS #MMR #STEGMANLIFE @ Stegman St. &lt;url&gt;</td>\n",
       "      <td>0.0</td>\n",
       "      <td>1.0</td>\n",
       "    </tr>\n",
       "    <tr>\n",
       "      <th>1</th>\n",
       "      <td>E3303EME</td>\n",
       "      <td>I'm 100% thinking of devoting my career to proving autism isn't caused by vaccines due to the IDIOTIC posts I've seen about World Autism Day</td>\n",
       "      <td>1.0</td>\n",
       "      <td>1.0</td>\n",
       "    </tr>\n",
       "    <tr>\n",
       "      <th>2</th>\n",
       "      <td>M4IVFSMS</td>\n",
       "      <td>#whatcausesautism VACCINES, DO NOT VACCINATE YOUR CHILD</td>\n",
       "      <td>-1.0</td>\n",
       "      <td>1.0</td>\n",
       "    </tr>\n",
       "    <tr>\n",
       "      <th>3</th>\n",
       "      <td>1DR6ROZ4</td>\n",
       "      <td>I mean if they immunize my kid with something that won't secretly kill him years down the line then I'm all for it, but I don't trust that</td>\n",
       "      <td>-1.0</td>\n",
       "      <td>1.0</td>\n",
       "    </tr>\n",
       "    <tr>\n",
       "      <th>4</th>\n",
       "      <td>J77ENIIE</td>\n",
       "      <td>Thanks to &lt;user&gt; Catch me performing at La Nuit NYC 1134 1st ave. Show starts at 6! #jennifair #mmr… &lt;url&gt;</td>\n",
       "      <td>0.0</td>\n",
       "      <td>1.0</td>\n",
       "    </tr>\n",
       "  </tbody>\n",
       "</table>\n",
       "</div>"
      ],
      "text/plain": [
       "   tweet_id  ... agreement\n",
       "0  CL1KWCMY  ...       1.0\n",
       "1  E3303EME  ...       1.0\n",
       "2  M4IVFSMS  ...       1.0\n",
       "3  1DR6ROZ4  ...       1.0\n",
       "4  J77ENIIE  ...       1.0\n",
       "\n",
       "[5 rows x 4 columns]"
      ]
     },
     "execution_count": 22,
     "metadata": {
      "tags": []
     },
     "output_type": "execute_result"
    }
   ],
   "source": [
    "train_df.head()"
   ]
  },
  {
   "cell_type": "code",
   "execution_count": null,
   "metadata": {
    "colab": {
     "base_uri": "https://localhost:8080/",
     "height": 34
    },
    "colab_type": "code",
    "id": "QVFQDnx8eQ9j",
    "outputId": "6c237c5d-8bd0-4f25-a489-60467b7ccd91"
   },
   "outputs": [
    {
     "data": {
      "text/plain": [
       "10001"
      ]
     },
     "execution_count": 23,
     "metadata": {
      "tags": []
     },
     "output_type": "execute_result"
    }
   ],
   "source": [
    "len(train_df)"
   ]
  },
  {
   "cell_type": "code",
   "execution_count": null,
   "metadata": {
    "colab": {
     "base_uri": "https://localhost:8080/",
     "height": 102
    },
    "colab_type": "code",
    "id": "5aIQWXkxe3eC",
    "outputId": "669f4941-39f4-4c10-a3fa-491ae7930c7f"
   },
   "outputs": [
    {
     "data": {
      "text/plain": [
       "tweet_id      object\n",
       "safe_text     object\n",
       "label        float64\n",
       "agreement    float64\n",
       "dtype: object"
      ]
     },
     "execution_count": 24,
     "metadata": {
      "tags": []
     },
     "output_type": "execute_result"
    }
   ],
   "source": [
    "train_df.dtypes"
   ]
  },
  {
   "cell_type": "code",
   "execution_count": null,
   "metadata": {
    "colab": {},
    "colab_type": "code",
    "id": "SrDRar86e8LS"
   },
   "outputs": [],
   "source": [
    "test_df = pd.read_csv(vaccinate_tweets/'Test.csv')"
   ]
  },
  {
   "cell_type": "code",
   "execution_count": null,
   "metadata": {
    "colab": {
     "base_uri": "https://localhost:8080/",
     "height": 34
    },
    "colab_type": "code",
    "id": "_LS9WdWuhYM8",
    "outputId": "c8b9bfb6-6d51-4c2b-a815-c2fb03db76c4"
   },
   "outputs": [
    {
     "data": {
      "text/plain": [
       "5177"
      ]
     },
     "execution_count": 26,
     "metadata": {
      "tags": []
     },
     "output_type": "execute_result"
    }
   ],
   "source": [
    "len(test_df)"
   ]
  },
  {
   "cell_type": "code",
   "execution_count": null,
   "metadata": {
    "colab": {
     "base_uri": "https://localhost:8080/",
     "height": 204
    },
    "colab_type": "code",
    "id": "4M5Jch2DfChf",
    "outputId": "189ce582-b29b-4ef6-b2c6-668eb8e1e093"
   },
   "outputs": [
    {
     "data": {
      "text/html": [
       "<div>\n",
       "<style scoped>\n",
       "    .dataframe tbody tr th:only-of-type {\n",
       "        vertical-align: middle;\n",
       "    }\n",
       "\n",
       "    .dataframe tbody tr th {\n",
       "        vertical-align: top;\n",
       "    }\n",
       "\n",
       "    .dataframe thead th {\n",
       "        text-align: right;\n",
       "    }\n",
       "</style>\n",
       "<table border=\"1\" class=\"dataframe\">\n",
       "  <thead>\n",
       "    <tr style=\"text-align: right;\">\n",
       "      <th></th>\n",
       "      <th>tweet_id</th>\n",
       "      <th>safe_text</th>\n",
       "    </tr>\n",
       "  </thead>\n",
       "  <tbody>\n",
       "    <tr>\n",
       "      <th>0</th>\n",
       "      <td>00BHHHP1</td>\n",
       "      <td>&lt;user&gt; &lt;user&gt; ... &amp;amp; 4 a vaccine given 2 healthy peeps, FDA think just not worth the AE risk unfortunately.</td>\n",
       "    </tr>\n",
       "    <tr>\n",
       "      <th>1</th>\n",
       "      <td>00UNMD0E</td>\n",
       "      <td>Students starting school without whooping cough vaccinations &lt;url&gt; #scpick</td>\n",
       "    </tr>\n",
       "    <tr>\n",
       "      <th>2</th>\n",
       "      <td>01AXPTJF</td>\n",
       "      <td>I'm kinda over every ep of &lt;user&gt; being \"ripped from the headlines.\" Measles? Let's get back to crime. #SVU</td>\n",
       "    </tr>\n",
       "    <tr>\n",
       "      <th>3</th>\n",
       "      <td>01HOEQJW</td>\n",
       "      <td>How many innocent children die for lack of vaccination each year? Around 1.5 million. Too bad all their parents couldn't be here. #SB277</td>\n",
       "    </tr>\n",
       "    <tr>\n",
       "      <th>4</th>\n",
       "      <td>01JUKMAO</td>\n",
       "      <td>CDC eyeing bird flu vaccine for humans, though risk is low: Federal officials said Wednesday they're taking steps… &lt;url&gt;</td>\n",
       "    </tr>\n",
       "  </tbody>\n",
       "</table>\n",
       "</div>"
      ],
      "text/plain": [
       "   tweet_id                                                                                                                                 safe_text\n",
       "0  00BHHHP1                            <user> <user> ... &amp; 4 a vaccine given 2 healthy peeps, FDA think just not worth the AE risk unfortunately.\n",
       "1  00UNMD0E                                                                Students starting school without whooping cough vaccinations <url> #scpick\n",
       "2  01AXPTJF                               I'm kinda over every ep of <user> being \"ripped from the headlines.\" Measles? Let's get back to crime. #SVU\n",
       "3  01HOEQJW  How many innocent children die for lack of vaccination each year? Around 1.5 million. Too bad all their parents couldn't be here. #SB277\n",
       "4  01JUKMAO                  CDC eyeing bird flu vaccine for humans, though risk is low: Federal officials said Wednesday they're taking steps… <url>"
      ]
     },
     "execution_count": 27,
     "metadata": {
      "tags": []
     },
     "output_type": "execute_result"
    }
   ],
   "source": [
    "test_df.head()"
   ]
  },
  {
   "cell_type": "markdown",
   "metadata": {
    "colab_type": "text",
    "id": "2B0crVEPfEff"
   },
   "source": [
    "## Cleaning the data"
   ]
  },
  {
   "cell_type": "code",
   "execution_count": null,
   "metadata": {
    "colab": {
     "base_uri": "https://localhost:8080/",
     "height": 102
    },
    "colab_type": "code",
    "id": "laGXznPvfKhC",
    "outputId": "4f7ee0bc-ab4c-483e-a98e-5133c79c3294"
   },
   "outputs": [
    {
     "data": {
      "text/plain": [
       "tweet_id     0\n",
       "safe_text    0\n",
       "label        1\n",
       "agreement    2\n",
       "dtype: int64"
      ]
     },
     "execution_count": 28,
     "metadata": {
      "tags": []
     },
     "output_type": "execute_result"
    }
   ],
   "source": [
    "# Find the missing values\n",
    "train_df.isna().sum()"
   ]
  },
  {
   "cell_type": "code",
   "execution_count": null,
   "metadata": {
    "colab": {
     "base_uri": "https://localhost:8080/",
     "height": 68
    },
    "colab_type": "code",
    "id": "7oH7VAkdfuG6",
    "outputId": "16ecb76c-e958-40a0-c9cc-06153f4b701b"
   },
   "outputs": [
    {
     "data": {
      "text/plain": [
       "tweet_id     0\n",
       "safe_text    1\n",
       "dtype: int64"
      ]
     },
     "execution_count": 29,
     "metadata": {
      "tags": []
     },
     "output_type": "execute_result"
    }
   ],
   "source": [
    "test_df.isna().sum()"
   ]
  },
  {
   "cell_type": "markdown",
   "metadata": {
    "colab_type": "text",
    "id": "uoEQP68bfhJw"
   },
   "source": [
    "label has 1 missing value and agreement has 2 missing values in train_df and safe_text has 1 missing value in safe_text"
   ]
  },
  {
   "cell_type": "markdown",
   "metadata": {
    "colab_type": "text",
    "id": "kUyEtVbVfq7A"
   },
   "source": [
    "## Filter out/Fill the missing values in train_df and test_df"
   ]
  },
  {
   "cell_type": "code",
   "execution_count": null,
   "metadata": {
    "colab": {},
    "colab_type": "code",
    "id": "4_qNfJ8cf7Gj"
   },
   "outputs": [],
   "source": [
    "# In case of train dataframe, it's okay to drop the missing value\n",
    "train_df.dropna(axis=0, inplace=True) # axis=0 "
   ]
  },
  {
   "cell_type": "code",
   "execution_count": null,
   "metadata": {
    "colab": {
     "base_uri": "https://localhost:8080/",
     "height": 34
    },
    "colab_type": "code",
    "id": "JltEAS3xgOfw",
    "outputId": "b303c6fc-d50a-41ca-ce8b-5ed5ea3cf7a2"
   },
   "outputs": [
    {
     "data": {
      "text/plain": [
       "9999"
      ]
     },
     "execution_count": 31,
     "metadata": {
      "tags": []
     },
     "output_type": "execute_result"
    }
   ],
   "source": [
    "len(train_df)"
   ]
  },
  {
   "cell_type": "markdown",
   "metadata": {
    "colab_type": "text",
    "id": "NeLlBSFagXOs"
   },
   "source": [
    "We have removed the two missing rows due to missing values in label & agreement"
   ]
  },
  {
   "cell_type": "markdown",
   "metadata": {
    "colab_type": "text",
    "id": "7EBWv-jpg7Ji"
   },
   "source": [
    "Since we have to submit our predictions on our Test.csv, we cannot remove the missing value. So we are going to fill the missing value with space"
   ]
  },
  {
   "cell_type": "code",
   "execution_count": null,
   "metadata": {
    "colab": {},
    "colab_type": "code",
    "id": "Cq2dkQMuhG9i"
   },
   "outputs": [],
   "source": [
    "test_df.fillna(value=\" \", axis=0, inplace=True)"
   ]
  },
  {
   "cell_type": "code",
   "execution_count": null,
   "metadata": {
    "colab": {
     "base_uri": "https://localhost:8080/",
     "height": 34
    },
    "colab_type": "code",
    "id": "aCXr8q0XhTOk",
    "outputId": "512c9e9a-4cc2-47c2-9add-e854091bada9"
   },
   "outputs": [
    {
     "data": {
      "text/plain": [
       "5177"
      ]
     },
     "execution_count": 33,
     "metadata": {
      "tags": []
     },
     "output_type": "execute_result"
    }
   ],
   "source": [
    "len(test_df)"
   ]
  },
  {
   "cell_type": "markdown",
   "metadata": {
    "colab_type": "text",
    "id": "-GqoNiU7hUz1"
   },
   "source": [
    "## Create DataLoader using DataBlock API"
   ]
  },
  {
   "cell_type": "code",
   "execution_count": null,
   "metadata": {
    "colab": {
     "base_uri": "https://localhost:8080/",
     "height": 151
    },
    "colab_type": "code",
    "id": "tRW0-uwchmPb",
    "outputId": "59f39a93-e28c-4ad9-af99-35e6906f9d50"
   },
   "outputs": [
    {
     "data": {
      "text/html": [
       "<h2 id=\"DataBlock\" class=\"doc_header\"><code>class</code> <code>DataBlock</code><a href=\"https://github.com/fastai/fastai2/tree/master/fastai2/data/block.py#L52\" class=\"source_link\" style=\"float:right\">[source]</a></h2><blockquote><p><code>DataBlock</code>(<strong><code>blocks</code></strong>=<em><code>None</code></em>, <strong><code>dl_type</code></strong>=<em><code>None</code></em>, <strong><code>getters</code></strong>=<em><code>None</code></em>, <strong><code>n_inp</code></strong>=<em><code>None</code></em>, <strong><code>item_tfms</code></strong>=<em><code>None</code></em>, <strong><code>batch_tfms</code></strong>=<em><code>None</code></em>, <strong><code>get_items</code></strong>=<em><code>None</code></em>, <strong><code>splitter</code></strong>=<em><code>None</code></em>, <strong><code>get_y</code></strong>=<em><code>None</code></em>, <strong><code>get_x</code></strong>=<em><code>None</code></em>)</p>\n",
       "</blockquote>\n",
       "<p>Generic container to quickly build <code>Datasets</code> and <code>DataLoaders</code></p>\n",
       "<p><a href=\"https://dev.fast.ai/data.block#DataBlock\" target=\"_blank\" rel=\"noreferrer noopener\">Show in docs</a></p>\n"
      ],
      "text/plain": [
       "<IPython.core.display.HTML object>"
      ]
     },
     "metadata": {
      "tags": []
     },
     "output_type": "display_data"
    }
   ],
   "source": [
    "doc(DataBlock)"
   ]
  },
  {
   "cell_type": "markdown",
   "metadata": {
    "colab_type": "text",
    "id": "r9r7cWdHho8j"
   },
   "source": [
    "imdb = DataBlock(blocks=(TextBlock.from_folder(path), CategoryBlock),\n",
    "                 get_items=get_text_files,\n",
    "                 get_y=parent_label,\n",
    "                 splitter=GrandparentSplitter(valid_name='test'))"
   ]
  },
  {
   "cell_type": "code",
   "execution_count": null,
   "metadata": {
    "colab": {
     "base_uri": "https://localhost:8080/",
     "height": 161
    },
    "colab_type": "code",
    "id": "NC6m78CSihG7",
    "outputId": "3d93faba-8846-4174-9c95-81716c874b1b"
   },
   "outputs": [
    {
     "data": {
      "text/html": [
       "<h4 id=\"TextBlock.from_df\" class=\"doc_header\"><code>TextBlock.from_df</code><a href=\"https://github.com/fastai/fastai2/tree/master/fastai2/text/data.py#L195\" class=\"source_link\" style=\"float:right\">[source]</a></h4><blockquote><p><code>TextBlock.from_df</code>(<strong><code>text_cols</code></strong>, <strong><code>vocab</code></strong>=<em><code>None</code></em>, <strong><code>is_lm</code></strong>=<em><code>False</code></em>, <strong><code>seq_len</code></strong>=<em><code>72</code></em>, <strong><code>min_freq</code></strong>=<em><code>3</code></em>, <strong><code>max_vocab</code></strong>=<em><code>60000</code></em>, <strong><code>tok_func</code></strong>=<em><code>'SpacyTokenizer'</code></em>, <strong><code>rules</code></strong>=<em><code>None</code></em>, <strong><code>sep</code></strong>=<em><code>' '</code></em>, <strong><code>n_workers</code></strong>=<em><code>2</code></em>, <strong><code>mark_fields</code></strong>=<em><code>None</code></em>, <strong><code>res_col_name</code></strong>=<em><code>'text'</code></em>, <strong>**<code>kwargs</code></strong>)</p>\n",
       "</blockquote>\n",
       "<p>Build a <code>TextBlock</code> from a dataframe using <code>text_cols</code></p>\n",
       "<p><a href=\"https://dev.fast.ai/text.data#TextBlock.from_df\" target=\"_blank\" rel=\"noreferrer noopener\">Show in docs</a></p>\n"
      ],
      "text/plain": [
       "<IPython.core.display.HTML object>"
      ]
     },
     "metadata": {
      "tags": []
     },
     "output_type": "display_data"
    }
   ],
   "source": [
    "doc(TextBlock.from_df)"
   ]
  },
  {
   "cell_type": "code",
   "execution_count": null,
   "metadata": {
    "colab": {
     "base_uri": "https://localhost:8080/",
     "height": 144
    },
    "colab_type": "code",
    "id": "TZpb7useijXc",
    "outputId": "f4024a5b-ee46-4ffe-e8d5-792edbdb0f33"
   },
   "outputs": [
    {
     "data": {
      "text/html": [
       "<h4 id=\"RegressionBlock\" class=\"doc_header\"><code>RegressionBlock</code><a href=\"https://github.com/fastai/fastai2/tree/master/fastai2/data/block.py#L33\" class=\"source_link\" style=\"float:right\">[source]</a></h4><blockquote><p><code>RegressionBlock</code>(<strong><code>n_out</code></strong>=<em><code>None</code></em>)</p>\n",
       "</blockquote>\n",
       "<p><code>TransformBlock</code> for float targets</p>\n",
       "<p><a href=\"https://dev.fast.ai/data.block#RegressionBlock\" target=\"_blank\" rel=\"noreferrer noopener\">Show in docs</a></p>\n"
      ],
      "text/plain": [
       "<IPython.core.display.HTML object>"
      ]
     },
     "metadata": {
      "tags": []
     },
     "output_type": "display_data"
    }
   ],
   "source": [
    "doc(RegressionBlock)"
   ]
  },
  {
   "cell_type": "code",
   "execution_count": null,
   "metadata": {
    "colab": {
     "base_uri": "https://localhost:8080/",
     "height": 151
    },
    "colab_type": "code",
    "id": "cZeunuH-nhuV",
    "outputId": "bcc378ac-ba25-4d31-9b39-e5044c197b9f"
   },
   "outputs": [
    {
     "data": {
      "text/html": [
       "<h2 id=\"SentencePieceTokenizer\" class=\"doc_header\"><code>class</code> <code>SentencePieceTokenizer</code><a href=\"https://github.com/fastai/fastai2/tree/master/fastai2/text/core.py#L320\" class=\"source_link\" style=\"float:right\">[source]</a></h2><blockquote><p><code>SentencePieceTokenizer</code>(<strong><code>lang</code></strong>=<em><code>'en'</code></em>, <strong><code>special_toks</code></strong>=<em><code>None</code></em>, <strong><code>sp_model</code></strong>=<em><code>None</code></em>, <strong><code>vocab_sz</code></strong>=<em><code>None</code></em>, <strong><code>max_vocab_sz</code></strong>=<em><code>30000</code></em>, <strong><code>model_type</code></strong>=<em><code>'unigram'</code></em>, <strong><code>char_coverage</code></strong>=<em><code>None</code></em>, <strong><code>cache_dir</code></strong>=<em><code>'tmp'</code></em>)</p>\n",
       "</blockquote>\n",
       "<p>Spacy tokenizer for <code>lang</code></p>\n",
       "<p><a href=\"https://dev.fast.ai/text.core#SentencePieceTokenizer\" target=\"_blank\" rel=\"noreferrer noopener\">Show in docs</a></p>\n"
      ],
      "text/plain": [
       "<IPython.core.display.HTML object>"
      ]
     },
     "metadata": {
      "tags": []
     },
     "output_type": "display_data"
    }
   ],
   "source": [
    "doc(SentencePieceTokenizer)"
   ]
  },
  {
   "cell_type": "code",
   "execution_count": null,
   "metadata": {
    "colab": {},
    "colab_type": "code",
    "id": "i6Rm-H66jOkU"
   },
   "outputs": [],
   "source": [
    "txt_blk_lm = TextBlock.from_df(text_cols='safe_text', is_lm=True, tok_func=SpacyTokenizer, res_col_name='text' ) #Next : SentencePiece https://forums.fast.ai/t/fastai-v2-text/53529/293"
   ]
  },
  {
   "cell_type": "code",
   "execution_count": null,
   "metadata": {
    "colab": {
     "base_uri": "https://localhost:8080/",
     "height": 151
    },
    "colab_type": "code",
    "id": "rSMCnulTjvm-",
    "outputId": "fc8219f1-21ed-4428-b87f-c2ed1ac730b6"
   },
   "outputs": [
    {
     "data": {
      "text/html": [
       "<h2 id=\"ColReader\" class=\"doc_header\"><code>class</code> <code>ColReader</code><a href=\"https://github.com/fastai/fastai2/tree/master/fastai2/data/transforms.py#L185\" class=\"source_link\" style=\"float:right\">[source]</a></h2><blockquote><p><code>ColReader</code>(<strong><code>cols</code></strong>, <strong><code>pref</code></strong>=<em><code>''</code></em>, <strong><code>suff</code></strong>=<em><code>''</code></em>, <strong><code>label_delim</code></strong>=<em><code>None</code></em>)</p>\n",
       "</blockquote>\n",
       "<p>Read <code>cols</code> in <code>row</code> with potential <code>pref</code> and <code>suff</code></p>\n",
       "<p><a href=\"https://dev.fast.ai/data.transforms#ColReader\" target=\"_blank\" rel=\"noreferrer noopener\">Show in docs</a></p>\n"
      ],
      "text/plain": [
       "<IPython.core.display.HTML object>"
      ]
     },
     "metadata": {
      "tags": []
     },
     "output_type": "display_data"
    }
   ],
   "source": [
    "doc(ColReader)"
   ]
  },
  {
   "cell_type": "markdown",
   "metadata": {
    "colab_type": "text",
    "id": "fJXqOwDxklG7"
   },
   "source": [
    "The task of Languagemodel is to predict the words based on the given text "
   ]
  },
  {
   "cell_type": "code",
   "execution_count": null,
   "metadata": {
    "colab": {},
    "colab_type": "code",
    "id": "5qkaIl2Th_PB"
   },
   "outputs": [],
   "source": [
    "vaccinate_lm = DataBlock(blocks=(txt_blk_lm), # There is no dependent variable \n",
    "                      get_x=ColReader(cols='text'), # Independent variable\n",
    "                      splitter=RandomSplitter(valid_pct=0.15,seed=42)\n",
    "                      )"
   ]
  },
  {
   "cell_type": "code",
   "execution_count": null,
   "metadata": {
    "colab": {},
    "colab_type": "code",
    "id": "t-hQ1LtekwZX"
   },
   "outputs": [],
   "source": [
    "#vaccinate_lm.summary(source=train_df)"
   ]
  },
  {
   "cell_type": "code",
   "execution_count": null,
   "metadata": {
    "colab": {
     "base_uri": "https://localhost:8080/",
     "height": 178
    },
    "colab_type": "code",
    "id": "0NyQ63d3mMw8",
    "outputId": "2244a206-9a76-499d-bfe9-b5ee5baef162"
   },
   "outputs": [
    {
     "data": {
      "text/html": [
       "<h4 id=\"DataBlock.dataloaders\" class=\"doc_header\"><code>DataBlock.dataloaders</code><a href=\"https://github.com/fastai/fastai2/tree/master/fastai2/data/block.py#L106\" class=\"source_link\" style=\"float:right\">[source]</a></h4><blockquote><p><code>DataBlock.dataloaders</code>(<strong><code>source</code></strong>, <strong><code>path</code></strong>=<em><code>'.'</code></em>, <strong><code>verbose</code></strong>=<em><code>False</code></em>, <strong><code>lens</code></strong>=<em><code>None</code></em>, <strong><code>cache</code></strong>=<em><code>2</code></em>, <strong><code>bs</code></strong>=<em><code>64</code></em>, <strong><code>seq_len</code></strong>=<em><code>72</code></em>, <strong><code>num_workers</code></strong>=<em><code>0</code></em>, <strong><code>shuffle</code></strong>=<em><code>False</code></em>, <strong><code>do_setup</code></strong>=<em><code>True</code></em>, <strong><code>pin_memory</code></strong>=<em><code>False</code></em>, <strong><code>timeout</code></strong>=<em><code>0</code></em>, <strong><code>batch_size</code></strong>=<em><code>None</code></em>, <strong><code>drop_last</code></strong>=<em><code>False</code></em>, <strong><code>indexed</code></strong>=<em><code>None</code></em>, <strong><code>n</code></strong>=<em><code>None</code></em>, <strong><code>device</code></strong>=<em><code>None</code></em>, <strong><code>wif</code></strong>=<em><code>None</code></em>, <strong><code>before_iter</code></strong>=<em><code>None</code></em>, <strong><code>after_item</code></strong>=<em><code>None</code></em>, <strong><code>before_batch</code></strong>=<em><code>None</code></em>, <strong><code>after_batch</code></strong>=<em><code>None</code></em>, <strong><code>after_iter</code></strong>=<em><code>None</code></em>, <strong><code>create_batches</code></strong>=<em><code>None</code></em>, <strong><code>create_item</code></strong>=<em><code>None</code></em>, <strong><code>create_batch</code></strong>=<em><code>None</code></em>, <strong><code>retain</code></strong>=<em><code>None</code></em>, <strong><code>get_idxs</code></strong>=<em><code>None</code></em>, <strong><code>sample</code></strong>=<em><code>None</code></em>, <strong><code>shuffle_fn</code></strong>=<em><code>None</code></em>, <strong><code>do_batch</code></strong>=<em><code>None</code></em>)</p>\n",
       "</blockquote>\n",
       "<p>Create a <code>DataLoaders</code> object from <code>source</code></p>\n",
       "<p><a href=\"https://dev.fast.ai/data.block#DataBlock.dataloaders\" target=\"_blank\" rel=\"noreferrer noopener\">Show in docs</a></p>\n"
      ],
      "text/plain": [
       "<IPython.core.display.HTML object>"
      ]
     },
     "metadata": {
      "tags": []
     },
     "output_type": "display_data"
    }
   ],
   "source": [
    "doc(DataBlock.dataloaders)"
   ]
  },
  {
   "cell_type": "code",
   "execution_count": null,
   "metadata": {
    "colab": {
     "base_uri": "https://localhost:8080/",
     "height": 34
    },
    "colab_type": "code",
    "id": "KiJK6dB2mRCe",
    "outputId": "85dc4ce4-567f-4aa8-c46e-d883efe4d26d"
   },
   "outputs": [
    {
     "data": {
      "text/plain": [
       "<fastai2.data.block.DataBlock at 0x7fee3255b6a0>"
      ]
     },
     "execution_count": 43,
     "metadata": {
      "tags": []
     },
     "output_type": "execute_result"
    }
   ],
   "source": [
    "vaccinate_lm"
   ]
  },
  {
   "cell_type": "code",
   "execution_count": null,
   "metadata": {
    "colab": {
     "base_uri": "https://localhost:8080/",
     "height": 68
    },
    "colab_type": "code",
    "id": "UtVpwYd1k023",
    "outputId": "1258ce3d-2891-4f23-b69d-23846a79cb70"
   },
   "outputs": [
    {
     "data": {
      "text/html": [],
      "text/plain": [
       "<IPython.core.display.HTML object>"
      ]
     },
     "metadata": {
      "tags": []
     },
     "output_type": "display_data"
    },
    {
     "name": "stdout",
     "output_type": "stream",
     "text": [
      "Setting up after_item: Pipeline: ToTensor\n",
      "Setting up before_batch: Pipeline: \n",
      "Setting up after_batch: Pipeline: \n"
     ]
    }
   ],
   "source": [
    "dls_lm = vaccinate_lm.dataloaders(source=train_df, bs=64, seq_len=72, verbose=True) "
   ]
  },
  {
   "cell_type": "code",
   "execution_count": null,
   "metadata": {
    "colab": {
     "base_uri": "https://localhost:8080/",
     "height": 255
    },
    "colab_type": "code",
    "id": "zBC6iYOQmY6K",
    "outputId": "e191e04f-b116-4b65-9feb-0c506f99eec5"
   },
   "outputs": [
    {
     "data": {
      "text/plain": [
       "(LMTensorText([[   2,    8,  375,  ...,   62,   15,    0],\n",
       "         [  48,   36,    2,  ...,   15,  818,  625],\n",
       "         [ 488,   22,    8,  ...,  113,   42, 2207],\n",
       "         ...,\n",
       "         [  79,   11,   88,  ...,   86,   18,  110],\n",
       "         [   9,    8,   49,  ..., 1314,   93,   19],\n",
       "         [  13,    9,    8,  ..., 4422,  197,   22]], device='cuda:0'),\n",
       " tensor([[   8,  375,   32,  ...,   15,    0,    0],\n",
       "         [  36,    2,    8,  ...,  818,  625,    7],\n",
       "         [  22,    8,  104,  ...,   42, 2207,   58],\n",
       "         ...,\n",
       "         [  11,   88,   10,  ...,   18,  110,    0],\n",
       "         [   8,   49,  200,  ...,   93,   19,  594],\n",
       "         [   9,    8,  108,  ...,  197,   22,   10]], device='cuda:0'))"
      ]
     },
     "execution_count": 45,
     "metadata": {
      "tags": []
     },
     "output_type": "execute_result"
    }
   ],
   "source": [
    "dls_lm.one_batch()"
   ]
  },
  {
   "cell_type": "code",
   "execution_count": null,
   "metadata": {
    "colab": {},
    "colab_type": "code",
    "id": "hNIlyyDbmj9s"
   },
   "outputs": [],
   "source": [
    "x, y = dls_lm.one_batch()"
   ]
  },
  {
   "cell_type": "code",
   "execution_count": null,
   "metadata": {
    "colab": {
     "base_uri": "https://localhost:8080/",
     "height": 34
    },
    "colab_type": "code",
    "id": "FddKBc0jmvE_",
    "outputId": "374fd31d-a766-4112-a641-9e7f387c1ad3"
   },
   "outputs": [
    {
     "data": {
      "text/plain": [
       "(torch.Size([64, 72]), torch.Size([64, 72]))"
      ]
     },
     "execution_count": 47,
     "metadata": {
      "tags": []
     },
     "output_type": "execute_result"
    }
   ],
   "source": [
    "x.shape, y.shape"
   ]
  },
  {
   "cell_type": "code",
   "execution_count": null,
   "metadata": {
    "colab": {
     "base_uri": "https://localhost:8080/",
     "height": 770
    },
    "colab_type": "code",
    "id": "9GDAphuEmwaF",
    "outputId": "3d7b21f9-b0e5-4db1-ca4e-4019f3f87765"
   },
   "outputs": [
    {
     "data": {
      "text/html": [
       "<table border=\"1\" class=\"dataframe\">\n",
       "  <thead>\n",
       "    <tr style=\"text-align: right;\">\n",
       "      <th></th>\n",
       "      <th>text</th>\n",
       "      <th>text_</th>\n",
       "    </tr>\n",
       "  </thead>\n",
       "  <tbody>\n",
       "    <tr>\n",
       "      <th>0</th>\n",
       "      <td>xxbos xxmaj eradicating polio . xxmaj using xxup gis to fight this disease . # esriuc vaccinations and improved xxunk conditions . &lt; url &gt; xxbos xxmaj third xxup mmr xxmaj dose well - tolerated xxmaj during xxmaj mumps xxmaj outbreak xxunk &lt; url &gt; # xxunk # newyork # xxup ny xxbos “ &lt; user &gt; xxmaj how about parents xxmaj guide to xxmaj dealing xxmaj with xxmaj people xxmaj who</td>\n",
       "      <td>xxmaj eradicating polio . xxmaj using xxup gis to fight this disease . # esriuc vaccinations and improved xxunk conditions . &lt; url &gt; xxbos xxmaj third xxup mmr xxmaj dose well - tolerated xxmaj during xxmaj mumps xxmaj outbreak xxunk &lt; url &gt; # xxunk # newyork # xxup ny xxbos “ &lt; user &gt; xxmaj how about parents xxmaj guide to xxmaj dealing xxmaj with xxmaj people xxmaj who have</td>\n",
       "    </tr>\n",
       "    <tr>\n",
       "      <th>1</th>\n",
       "      <td>&gt; &lt; user &gt; &lt; user &gt; parents would no longer be able to xxunk on the herd immunity of protected children . xxbos xxmaj all i wanted was an opportunity , a bad nigga , &amp; &amp; some immunity ; to keep a xxunk ' safe from the snakes .. xxbos &lt; user &gt; xxmaj news you might 've missed , from &lt; user &gt; xxmaj no . 5 : 400</td>\n",
       "      <td>&lt; user &gt; &lt; user &gt; parents would no longer be able to xxunk on the herd immunity of protected children . xxbos xxmaj all i wanted was an opportunity , a bad nigga , &amp; &amp; some immunity ; to keep a xxunk ' safe from the snakes .. xxbos &lt; user &gt; xxmaj news you might 've missed , from &lt; user &gt; xxmaj no . 5 : 400 million</td>\n",
       "    </tr>\n",
       "    <tr>\n",
       "      <th>2</th>\n",
       "      <td>url &gt; xxbos “ &lt; user &gt; xxmaj the ethical xxunk of parents who refuse to vaccinate their children &lt; url &gt; # vaccineswork # vaccinations xxbos xxmaj how well - vaccinated is your child ’s kindergarten ? : xxmaj the xxmaj california xxmaj health and xxmaj safety xxmaj code requires elementary school … &lt; url &gt; xxbos &lt; user &gt; \" i never got my kids vaccinated and they are fine</td>\n",
       "      <td>&gt; xxbos “ &lt; user &gt; xxmaj the ethical xxunk of parents who refuse to vaccinate their children &lt; url &gt; # vaccineswork # vaccinations xxbos xxmaj how well - vaccinated is your child ’s kindergarten ? : xxmaj the xxmaj california xxmaj health and xxmaj safety xxmaj code requires elementary school … &lt; url &gt; xxbos &lt; user &gt; \" i never got my kids vaccinated and they are fine \"</td>\n",
       "    </tr>\n",
       "    <tr>\n",
       "      <th>3</th>\n",
       "      <td>xxmaj vaccination xxmaj records for xxmaj kids &lt; url &gt; xxbos &lt; user &gt; my mmr shows that because xxmaj i 've only xxunk with my xxup xxunk friend for like two weeks . xxmaj and alright xxmaj i 'll believe it when i see it lmao xxbos xxmaj german xxmaj xxunk xxmaj who xxmaj denied xxmaj measles xxmaj exists xxmaj xxunk xxmaj to xxmaj pay xxmaj more xxmaj than $ 100</td>\n",
       "      <td>vaccination xxmaj records for xxmaj kids &lt; url &gt; xxbos &lt; user &gt; my mmr shows that because xxmaj i 've only xxunk with my xxup xxunk friend for like two weeks . xxmaj and alright xxmaj i 'll believe it when i see it lmao xxbos xxmaj german xxmaj xxunk xxmaj who xxmaj denied xxmaj measles xxmaj exists xxmaj xxunk xxmaj to xxmaj pay xxmaj more xxmaj than $ 100 ,</td>\n",
       "    </tr>\n",
       "    <tr>\n",
       "      <th>4</th>\n",
       "      <td>worried about , it 's not worse than the measles . xxmaj shut up . \\n xxmaj xxunk , \\n xxmaj everyone xxbos xxmaj how can we convince parents to vaccinate ? xxmaj acknowledge their fears . &lt; url &gt; via &lt; user &gt; # autism # antivaxxer xxbos xxmaj is this year 's flu vaccine effective ? xxmaj the experts xxunk in : xxmaj the xxmaj centers for xxmaj disease xxmaj</td>\n",
       "      <td>about , it 's not worse than the measles . xxmaj shut up . \\n xxmaj xxunk , \\n xxmaj everyone xxbos xxmaj how can we convince parents to vaccinate ? xxmaj acknowledge their fears . &lt; url &gt; via &lt; user &gt; # autism # antivaxxer xxbos xxmaj is this year 's flu vaccine effective ? xxmaj the experts xxunk in : xxmaj the xxmaj centers for xxmaj disease xxmaj control</td>\n",
       "    </tr>\n",
       "    <tr>\n",
       "      <th>5</th>\n",
       "      <td>&lt; user &gt; forms it for sure asked about vaccines . i went to private school but i seem to remember it was required . xxmaj maybe public is xxunk ? xxbos xxmaj neurosurgeon xxmaj exposes xxmaj vaccines , xxup cdc , xxup fda and xxmaj xxunk … : &lt; url &gt; xxbos xxmaj xxunk about running up to xxmaj jenny mccarthy and xxunk \" vaccinate xxmaj this ! \" - xxmaj</td>\n",
       "      <td>user &gt; forms it for sure asked about vaccines . i went to private school but i seem to remember it was required . xxmaj maybe public is xxunk ? xxbos xxmaj neurosurgeon xxmaj exposes xxmaj vaccines , xxup cdc , xxup fda and xxmaj xxunk … : &lt; url &gt; xxbos xxmaj xxunk about running up to xxmaj jenny mccarthy and xxunk \" vaccinate xxmaj this ! \" - xxmaj than</td>\n",
       "    </tr>\n",
       "    <tr>\n",
       "      <th>6</th>\n",
       "      <td>school . xxmaj you must send your kids to some type of school . xxmaj you need vaccines to work most places . xxmaj force xxbos xxmaj state vaccination exemptions up xxunk over 30 years : xxmaj religious and medical exemptions claimed by xxmaj bay xxmaj state … &lt; url &gt; xxbos xxmaj vaccines … xxunk xxmaj childrens xxmaj clinic ) &lt; url &gt; xxbos y' all better be xxunk your measles</td>\n",
       "      <td>. xxmaj you must send your kids to some type of school . xxmaj you need vaccines to work most places . xxmaj force xxbos xxmaj state vaccination exemptions up xxunk over 30 years : xxmaj religious and medical exemptions claimed by xxmaj bay xxmaj state … &lt; url &gt; xxbos xxmaj vaccines … xxunk xxmaj childrens xxmaj clinic ) &lt; url &gt; xxbos y' all better be xxunk your measles up</td>\n",
       "    </tr>\n",
       "    <tr>\n",
       "      <th>7</th>\n",
       "      <td>immigrants bringing diseases into the xxup us ? a xxmaj child from xxmaj mexico got measles at xxmaj disney from an # xxunk xxbos &lt; user &gt; i choose not to vaccinate my kids and my xxunk &amp; &amp; xxunk make me feel good about it . xxbos i xxunk this : xxmaj why xxmaj did xxmaj vaccinated xxmaj people xxmaj get xxmaj measles at xxmaj disneyland ? | xxup xxunk &lt;</td>\n",
       "      <td>bringing diseases into the xxup us ? a xxmaj child from xxmaj mexico got measles at xxmaj disney from an # xxunk xxbos &lt; user &gt; i choose not to vaccinate my kids and my xxunk &amp; &amp; xxunk make me feel good about it . xxbos i xxunk this : xxmaj why xxmaj did xxmaj vaccinated xxmaj people xxmaj get xxmaj measles at xxmaj disneyland ? | xxup xxunk &lt; url</td>\n",
       "    </tr>\n",
       "    <tr>\n",
       "      <th>8</th>\n",
       "      <td>xxmaj measles outbreak in xxmaj xxunk xxmaj county spreads to four &lt; url &gt; via &lt; url &gt; xxbos xxmaj good . xxmaj exempt from vaccines , exempt from school . xxmaj period . \" california xxmaj moves to xxmaj ban xxmaj all xxmaj vaccination xxmaj exemptions \" &lt; url &gt; xxbos xxmaj lol i ca n't with people who do n't vaccinate their children . xxmaj god is n't going to</td>\n",
       "      <td>measles outbreak in xxmaj xxunk xxmaj county spreads to four &lt; url &gt; via &lt; url &gt; xxbos xxmaj good . xxmaj exempt from vaccines , exempt from school . xxmaj period . \" california xxmaj moves to xxmaj ban xxmaj all xxmaj vaccination xxmaj exemptions \" &lt; url &gt; xxbos xxmaj lol i ca n't with people who do n't vaccinate their children . xxmaj god is n't going to save</td>\n",
       "    </tr>\n",
       "  </tbody>\n",
       "</table>"
      ],
      "text/plain": [
       "<IPython.core.display.HTML object>"
      ]
     },
     "metadata": {
      "tags": []
     },
     "output_type": "display_data"
    }
   ],
   "source": [
    "dls_lm.show_batch()"
   ]
  },
  {
   "cell_type": "code",
   "execution_count": null,
   "metadata": {
    "colab": {},
    "colab_type": "code",
    "id": "Fey3we0Rm4C4"
   },
   "outputs": [],
   "source": [
    "# Vocab"
   ]
  },
  {
   "cell_type": "code",
   "execution_count": null,
   "metadata": {
    "colab": {
     "base_uri": "https://localhost:8080/",
     "height": 544
    },
    "colab_type": "code",
    "id": "V0DBq3iunH_O",
    "outputId": "ffd3d6cc-17d6-4eed-e606-f202ccfaef4a"
   },
   "outputs": [
    {
     "data": {
      "text/plain": [
       "(4472,\n",
       " ['xxunk',\n",
       "  'xxpad',\n",
       "  'xxbos',\n",
       "  'xxeos',\n",
       "  'xxfld',\n",
       "  'xxrep',\n",
       "  'xxwrep',\n",
       "  'xxup',\n",
       "  'xxmaj',\n",
       "  '>',\n",
       "  '<',\n",
       "  '.',\n",
       "  '#',\n",
       "  'user',\n",
       "  'url',\n",
       "  'the',\n",
       "  'to',\n",
       "  ',',\n",
       "  'measles',\n",
       "  'a',\n",
       "  'of',\n",
       "  'i',\n",
       "  ':',\n",
       "  'in',\n",
       "  'and',\n",
       "  '…',\n",
       "  '!',\n",
       "  'is',\n",
       "  'vaccine',\n",
       "  'for'])"
      ]
     },
     "execution_count": 50,
     "metadata": {
      "tags": []
     },
     "output_type": "execute_result"
    }
   ],
   "source": [
    "len(dls_lm.train.vocab), dls_lm.train.vocab[:30]"
   ]
  },
  {
   "cell_type": "markdown",
   "metadata": {
    "colab_type": "text",
    "id": "Rt-pTsc3nRos"
   },
   "source": [
    "## Language Model"
   ]
  },
  {
   "cell_type": "code",
   "execution_count": null,
   "metadata": {
    "colab": {
     "base_uri": "https://localhost:8080/",
     "height": 161
    },
    "colab_type": "code",
    "id": "pi2zwEm2nlAU",
    "outputId": "b4b159c2-a284-4d95-fd5f-d9a6da28544f"
   },
   "outputs": [
    {
     "data": {
      "text/html": [
       "<h4 id=\"language_model_learner\" class=\"doc_header\"><code>language_model_learner</code><a href=\"https://github.com/fastai/fastai2/tree/master/fastai2/text/learner.py#L193\" class=\"source_link\" style=\"float:right\">[source]</a></h4><blockquote><p><code>language_model_learner</code>(<strong><code>dls</code></strong>, <strong><code>arch</code></strong>, <strong><code>config</code></strong>=<em><code>None</code></em>, <strong><code>drop_mult</code></strong>=<em><code>1.0</code></em>, <strong><code>pretrained</code></strong>=<em><code>True</code></em>, <strong><code>pretrained_fnames</code></strong>=<em><code>None</code></em>, <strong><code>loss_func</code></strong>=<em><code>None</code></em>, <strong><code>opt_func</code></strong>=<em><code>'Adam'</code></em>, <strong><code>lr</code></strong>=<em><code>0.001</code></em>, <strong><code>splitter</code></strong>=<em><code>'trainable_params'</code></em>, <strong><code>cbs</code></strong>=<em><code>None</code></em>, <strong><code>metrics</code></strong>=<em><code>None</code></em>, <strong><code>path</code></strong>=<em><code>None</code></em>, <strong><code>model_dir</code></strong>=<em><code>'models'</code></em>, <strong><code>wd</code></strong>=<em><code>None</code></em>, <strong><code>wd_bn_bias</code></strong>=<em><code>False</code></em>, <strong><code>train_bn</code></strong>=<em><code>True</code></em>, <strong><code>moms</code></strong>=<em><code>(0.95, 0.85, 0.95)</code></em>)</p>\n",
       "</blockquote>\n",
       "<p>Create a <code>Learner</code> with a language model from <code>dls</code> and <code>arch</code>.</p>\n",
       "<p><a href=\"https://dev.fast.ai/text.learner#language_model_learner\" target=\"_blank\" rel=\"noreferrer noopener\">Show in docs</a></p>\n"
      ],
      "text/plain": [
       "<IPython.core.display.HTML object>"
      ]
     },
     "metadata": {
      "tags": []
     },
     "output_type": "display_data"
    }
   ],
   "source": [
    "doc(language_model_learner)"
   ]
  },
  {
   "cell_type": "code",
   "execution_count": null,
   "metadata": {
    "colab": {
     "base_uri": "https://localhost:8080/",
     "height": 17
    },
    "colab_type": "code",
    "id": "qQi0EWjoni11",
    "outputId": "02556cc9-d161-4ed8-9e0a-62b34354646e"
   },
   "outputs": [
    {
     "data": {
      "text/html": [],
      "text/plain": [
       "<IPython.core.display.HTML object>"
      ]
     },
     "metadata": {
      "tags": []
     },
     "output_type": "display_data"
    }
   ],
   "source": [
    "learn_lm = language_model_learner(dls=dls_lm, arch=AWD_LSTM, pretrained=True, metrics=[accuracy, Perplexity()]) # Next : [accuracy, Perplexity()], AWD_QRNN"
   ]
  },
  {
   "cell_type": "code",
   "execution_count": null,
   "metadata": {
    "colab": {
     "base_uri": "https://localhost:8080/",
     "height": 510
    },
    "colab_type": "code",
    "id": "KIcWMgWCn28y",
    "outputId": "dfdfbca3-8285-4091-dc86-1fd3b865991d"
   },
   "outputs": [
    {
     "data": {
      "text/plain": [
       "SequentialRNN(\n",
       "  (0): AWD_LSTM(\n",
       "    (encoder): Embedding(4472, 400, padding_idx=1)\n",
       "    (encoder_dp): EmbeddingDropout(\n",
       "      (emb): Embedding(4472, 400, padding_idx=1)\n",
       "    )\n",
       "    (rnns): ModuleList(\n",
       "      (0): WeightDropout(\n",
       "        (module): LSTM(400, 1152, batch_first=True)\n",
       "      )\n",
       "      (1): WeightDropout(\n",
       "        (module): LSTM(1152, 1152, batch_first=True)\n",
       "      )\n",
       "      (2): WeightDropout(\n",
       "        (module): LSTM(1152, 400, batch_first=True)\n",
       "      )\n",
       "    )\n",
       "    (input_dp): RNNDropout()\n",
       "    (hidden_dps): ModuleList(\n",
       "      (0): RNNDropout()\n",
       "      (1): RNNDropout()\n",
       "      (2): RNNDropout()\n",
       "    )\n",
       "  )\n",
       "  (1): LinearDecoder(\n",
       "    (decoder): Linear(in_features=400, out_features=4472, bias=True)\n",
       "    (output_dp): RNNDropout()\n",
       "  )\n",
       ")"
      ]
     },
     "execution_count": 53,
     "metadata": {
      "tags": []
     },
     "output_type": "execute_result"
    }
   ],
   "source": [
    "learn_lm.model"
   ]
  },
  {
   "cell_type": "code",
   "execution_count": null,
   "metadata": {
    "colab": {
     "base_uri": "https://localhost:8080/",
     "height": 527
    },
    "colab_type": "code",
    "id": "g4E8K5t0n6gJ",
    "outputId": "c9983755-cb3e-48ae-c4a4-db2e4a6ba68f"
   },
   "outputs": [
    {
     "data": {
      "text/plain": [
       "SequentialRNN (Input shape: ['64 x 72'])\n",
       "================================================================\n",
       "Layer (type)         Output Shape         Param #    Trainable \n",
       "================================================================\n",
       "RNNDropout           64 x 72 x 400        0          False     \n",
       "________________________________________________________________\n",
       "RNNDropout           64 x 72 x 1152       0          False     \n",
       "________________________________________________________________\n",
       "RNNDropout           64 x 72 x 1152       0          False     \n",
       "________________________________________________________________\n",
       "Linear               64 x 72 x 4472       1,793,272  True      \n",
       "________________________________________________________________\n",
       "RNNDropout           64 x 72 x 400        0          False     \n",
       "________________________________________________________________\n",
       "\n",
       "Total params: 1,793,272\n",
       "Total trainable params: 1,793,272\n",
       "Total non-trainable params: 0\n",
       "\n",
       "Optimizer used: <function Adam at 0x7fee89ac9d90>\n",
       "Loss function: FlattenedLoss of CrossEntropyLoss()\n",
       "\n",
       "Model frozen up to parameter group number 3\n",
       "\n",
       "Callbacks:\n",
       "  - TrainEvalCallback\n",
       "  - Recorder\n",
       "  - ProgressCallback\n",
       "  - ModelReseter\n",
       "  - RNNRegularizer"
      ]
     },
     "execution_count": 54,
     "metadata": {
      "tags": []
     },
     "output_type": "execute_result"
    }
   ],
   "source": [
    "learn_lm.summary()"
   ]
  },
  {
   "cell_type": "markdown",
   "metadata": {
    "colab_type": "text",
    "id": "1cJUYHUDocEk"
   },
   "source": [
    "Find the learning rate"
   ]
  },
  {
   "cell_type": "code",
   "execution_count": null,
   "metadata": {
    "colab": {
     "base_uri": "https://localhost:8080/",
     "height": 144
    },
    "colab_type": "code",
    "id": "_PhyIgbLoe-r",
    "outputId": "da37cc6a-c3e5-43a6-acd6-9defa46c7923"
   },
   "outputs": [
    {
     "data": {
      "text/html": [
       "<h4 id=\"Learner.lr_find\" class=\"doc_header\"><code>Learner.lr_find</code><a href=\"https://github.com/fastai/fastai2/tree/master/fastai2/callback/schedule.py#L223\" class=\"source_link\" style=\"float:right\">[source]</a></h4><blockquote><p><code>Learner.lr_find</code>(<strong><code>start_lr</code></strong>=<em><code>1e-07</code></em>, <strong><code>end_lr</code></strong>=<em><code>10</code></em>, <strong><code>num_it</code></strong>=<em><code>100</code></em>, <strong><code>stop_div</code></strong>=<em><code>True</code></em>, <strong><code>show_plot</code></strong>=<em><code>True</code></em>, <strong><code>suggestions</code></strong>=<em><code>True</code></em>)</p>\n",
       "</blockquote>\n",
       "<p>Launch a mock training to find a good learning rate, return lr_min, lr_steep if <code>suggestions</code> is True</p>\n",
       "<p><a href=\"https://dev.fast.ai/callback.schedule#Learner.lr_find\" target=\"_blank\" rel=\"noreferrer noopener\">Show in docs</a></p>\n"
      ],
      "text/plain": [
       "<IPython.core.display.HTML object>"
      ]
     },
     "metadata": {
      "tags": []
     },
     "output_type": "display_data"
    }
   ],
   "source": [
    "doc(Learner.lr_find)"
   ]
  },
  {
   "cell_type": "code",
   "execution_count": null,
   "metadata": {
    "colab": {
     "base_uri": "https://localhost:8080/",
     "height": 300
    },
    "colab_type": "code",
    "id": "4QBSv3TLoDEe",
    "outputId": "ead3eb96-6252-4b10-84a2-5c14c738733a"
   },
   "outputs": [
    {
     "data": {
      "text/html": [],
      "text/plain": [
       "<IPython.core.display.HTML object>"
      ]
     },
     "metadata": {
      "tags": []
     },
     "output_type": "display_data"
    },
    {
     "data": {
      "text/plain": [
       "SuggestedLRs(lr_min=0.06309573650360108, lr_steep=0.0691830962896347)"
      ]
     },
     "execution_count": 56,
     "metadata": {
      "tags": []
     },
     "output_type": "execute_result"
    },
    {
     "data": {
      "image/png": "[encoded data removed]",
      "text/plain": [
       "<Figure size 432x288 with 1 Axes>"
      ]
     },
     "metadata": {
      "needs_background": "light",
      "tags": []
     },
     "output_type": "display_data"
    }
   ],
   "source": [
    "learn_lm.lr_find(suggestions=True)"
   ]
  },
  {
   "cell_type": "code",
   "execution_count": null,
   "metadata": {
    "colab": {
     "base_uri": "https://localhost:8080/",
     "height": 144
    },
    "colab_type": "code",
    "id": "QQ4ANWxMo4d2",
    "outputId": "2792dd8b-6c45-423f-d862-b77de24e5a6f"
   },
   "outputs": [
    {
     "data": {
      "text/html": [
       "<h4 id=\"Learner.fine_tune\" class=\"doc_header\"><code>Learner.fine_tune</code><a href=\"https://github.com/fastai/fastai2/tree/master/fastai2/callback/schedule.py#L154\" class=\"source_link\" style=\"float:right\">[source]</a></h4><blockquote><p><code>Learner.fine_tune</code>(<strong><code>epochs</code></strong>, <strong><code>base_lr</code></strong>=<em><code>0.002</code></em>, <strong><code>freeze_epochs</code></strong>=<em><code>1</code></em>, <strong><code>lr_mult</code></strong>=<em><code>100</code></em>, <strong><code>pct_start</code></strong>=<em><code>0.3</code></em>, <strong><code>div</code></strong>=<em><code>5.0</code></em>, <strong><code>lr_max</code></strong>=<em><code>None</code></em>, <strong><code>div_final</code></strong>=<em><code>100000.0</code></em>, <strong><code>wd</code></strong>=<em><code>None</code></em>, <strong><code>moms</code></strong>=<em><code>None</code></em>, <strong><code>cbs</code></strong>=<em><code>None</code></em>, <strong><code>reset_opt</code></strong>=<em><code>False</code></em>)</p>\n",
       "</blockquote>\n",
       "<p>Fine tune with <code>freeze</code> for <code>freeze_epochs</code> then with <code>unfreeze</code> from <code>epochs</code> using discriminative LR</p>\n",
       "<p><a href=\"https://dev.fast.ai/callback.schedule#Learner.fine_tune\" target=\"_blank\" rel=\"noreferrer noopener\">Show in docs</a></p>\n"
      ],
      "text/plain": [
       "<IPython.core.display.HTML object>"
      ]
     },
     "metadata": {
      "tags": []
     },
     "output_type": "display_data"
    }
   ],
   "source": [
    "doc(Learner.fine_tune)"
   ]
  },
  {
   "cell_type": "code",
   "execution_count": null,
   "metadata": {
    "colab": {},
    "colab_type": "code",
    "id": "-SUzH2KppK2s"
   },
   "outputs": [],
   "source": [
    "lr=1e-2"
   ]
  },
  {
   "cell_type": "code",
   "execution_count": null,
   "metadata": {
    "colab": {
     "base_uri": "https://localhost:8080/",
     "height": 205
    },
    "colab_type": "code",
    "id": "Tpuk8lJVomMT",
    "outputId": "78c7e71f-b0fb-4b94-eadc-05333f811614"
   },
   "outputs": [
    {
     "data": {
      "text/html": [
       "<table border=\"1\" class=\"dataframe\">\n",
       "  <thead>\n",
       "    <tr style=\"text-align: left;\">\n",
       "      <th>epoch</th>\n",
       "      <th>train_loss</th>\n",
       "      <th>valid_loss</th>\n",
       "      <th>accuracy</th>\n",
       "      <th>perplexity</th>\n",
       "      <th>time</th>\n",
       "    </tr>\n",
       "  </thead>\n",
       "  <tbody>\n",
       "    <tr>\n",
       "      <td>0</td>\n",
       "      <td>5.276912</td>\n",
       "      <td>3.852003</td>\n",
       "      <td>0.315016</td>\n",
       "      <td>47.087299</td>\n",
       "      <td>00:14</td>\n",
       "    </tr>\n",
       "  </tbody>\n",
       "</table>"
      ],
      "text/plain": [
       "<IPython.core.display.HTML object>"
      ]
     },
     "metadata": {
      "tags": []
     },
     "output_type": "display_data"
    },
    {
     "data": {
      "text/html": [
       "<table border=\"1\" class=\"dataframe\">\n",
       "  <thead>\n",
       "    <tr style=\"text-align: left;\">\n",
       "      <th>epoch</th>\n",
       "      <th>train_loss</th>\n",
       "      <th>valid_loss</th>\n",
       "      <th>accuracy</th>\n",
       "      <th>perplexity</th>\n",
       "      <th>time</th>\n",
       "    </tr>\n",
       "  </thead>\n",
       "  <tbody>\n",
       "    <tr>\n",
       "      <td>0</td>\n",
       "      <td>4.046282</td>\n",
       "      <td>3.538154</td>\n",
       "      <td>0.352984</td>\n",
       "      <td>34.403339</td>\n",
       "      <td>00:15</td>\n",
       "    </tr>\n",
       "    <tr>\n",
       "      <td>1</td>\n",
       "      <td>3.818501</td>\n",
       "      <td>3.393587</td>\n",
       "      <td>0.369528</td>\n",
       "      <td>29.772551</td>\n",
       "      <td>00:15</td>\n",
       "    </tr>\n",
       "    <tr>\n",
       "      <td>2</td>\n",
       "      <td>3.671724</td>\n",
       "      <td>3.367341</td>\n",
       "      <td>0.373283</td>\n",
       "      <td>29.001310</td>\n",
       "      <td>00:15</td>\n",
       "    </tr>\n",
       "  </tbody>\n",
       "</table>"
      ],
      "text/plain": [
       "<IPython.core.display.HTML object>"
      ]
     },
     "metadata": {
      "tags": []
     },
     "output_type": "display_data"
    }
   ],
   "source": [
    "learn_lm.fine_tune(epochs=3, base_lr=lr)"
   ]
  },
  {
   "cell_type": "code",
   "execution_count": null,
   "metadata": {
    "colab": {},
    "colab_type": "code",
    "id": "lekMAQiWpO4R"
   },
   "outputs": [],
   "source": [
    "learn_lm.save_encoder(file='fine_tuned_enc')"
   ]
  },
  {
   "cell_type": "markdown",
   "metadata": {
    "colab_type": "text",
    "id": "yraYqKOnqUeU"
   },
   "source": [
    "## DataBlock for TextRegression"
   ]
  },
  {
   "cell_type": "code",
   "execution_count": null,
   "metadata": {
    "colab": {
     "base_uri": "https://localhost:8080/",
     "height": 161
    },
    "colab_type": "code",
    "id": "KBI3jmjmqqte",
    "outputId": "1d9d2e33-75e8-4263-b101-78b26febcb30"
   },
   "outputs": [
    {
     "data": {
      "text/html": [
       "<h4 id=\"TextBlock.from_df\" class=\"doc_header\"><code>TextBlock.from_df</code><a href=\"https://github.com/fastai/fastai2/tree/master/fastai2/text/data.py#L195\" class=\"source_link\" style=\"float:right\">[source]</a></h4><blockquote><p><code>TextBlock.from_df</code>(<strong><code>text_cols</code></strong>, <strong><code>vocab</code></strong>=<em><code>None</code></em>, <strong><code>is_lm</code></strong>=<em><code>False</code></em>, <strong><code>seq_len</code></strong>=<em><code>72</code></em>, <strong><code>min_freq</code></strong>=<em><code>3</code></em>, <strong><code>max_vocab</code></strong>=<em><code>60000</code></em>, <strong><code>tok_func</code></strong>=<em><code>'SpacyTokenizer'</code></em>, <strong><code>rules</code></strong>=<em><code>None</code></em>, <strong><code>sep</code></strong>=<em><code>' '</code></em>, <strong><code>n_workers</code></strong>=<em><code>2</code></em>, <strong><code>mark_fields</code></strong>=<em><code>None</code></em>, <strong><code>res_col_name</code></strong>=<em><code>'text'</code></em>, <strong>**<code>kwargs</code></strong>)</p>\n",
       "</blockquote>\n",
       "<p>Build a <code>TextBlock</code> from a dataframe using <code>text_cols</code></p>\n",
       "<p><a href=\"https://dev.fast.ai/text.data#TextBlock.from_df\" target=\"_blank\" rel=\"noreferrer noopener\">Show in docs</a></p>\n"
      ],
      "text/plain": [
       "<IPython.core.display.HTML object>"
      ]
     },
     "metadata": {
      "tags": []
     },
     "output_type": "display_data"
    }
   ],
   "source": [
    "doc(TextBlock.from_df)"
   ]
  },
  {
   "cell_type": "code",
   "execution_count": null,
   "metadata": {
    "colab": {
     "base_uri": "https://localhost:8080/",
     "height": 151
    },
    "colab_type": "code",
    "id": "afmlnMwhfaSs",
    "outputId": "5df38714-6785-4e72-e41f-24dcae84f39a"
   },
   "outputs": [
    {
     "data": {
      "text/html": [
       "<h2 id=\"SpacyTokenizer\" class=\"doc_header\"><code>class</code> <code>SpacyTokenizer</code><a href=\"https://github.com/fastai/fastai2/tree/master/fastai2/text/core.py#L110\" class=\"source_link\" style=\"float:right\">[source]</a></h2><blockquote><p><code>SpacyTokenizer</code>(<strong><code>lang</code></strong>=<em><code>'en'</code></em>, <strong><code>special_toks</code></strong>=<em><code>None</code></em>, <strong><code>buf_sz</code></strong>=<em><code>5000</code></em>)</p>\n",
       "</blockquote>\n",
       "<p>Spacy tokenizer for <code>lang</code></p>\n",
       "<p><a href=\"https://dev.fast.ai/text.core#SpacyTokenizer\" target=\"_blank\" rel=\"noreferrer noopener\">Show in docs</a></p>\n"
      ],
      "text/plain": [
       "<IPython.core.display.HTML object>"
      ]
     },
     "metadata": {
      "tags": []
     },
     "output_type": "display_data"
    }
   ],
   "source": [
    "doc(SpacyTokenizer)"
   ]
  },
  {
   "cell_type": "code",
   "execution_count": null,
   "metadata": {
    "colab": {},
    "colab_type": "code",
    "id": "DsGDyWtKqw67"
   },
   "outputs": [],
   "source": [
    "txt_blk_reg = TextBlock.from_df(text_cols='safe_text', vocab=dls_lm.vocab, is_lm=False, tok_func=SpacyTokenizer)"
   ]
  },
  {
   "cell_type": "code",
   "execution_count": null,
   "metadata": {
    "colab": {},
    "colab_type": "code",
    "id": "cgXbTXZnqi96"
   },
   "outputs": [],
   "source": [
    "vaccinate_reg = DataBlock(blocks=(txt_blk_reg, RegressionBlock),\n",
    "                          get_x=ColReader(cols='text'),\n",
    "                          get_y=ColReader(cols='label'),\n",
    "                          splitter=RandomSplitter(valid_pct=0.2, seed=42))"
   ]
  },
  {
   "cell_type": "code",
   "execution_count": null,
   "metadata": {
    "colab": {
     "base_uri": "https://localhost:8080/",
     "height": 1000
    },
    "colab_type": "code",
    "id": "OHWTLeHvrzkr",
    "outputId": "ea1fc479-3866-49eb-9498-15ea409739ae"
   },
   "outputs": [
    {
     "name": "stdout",
     "output_type": "stream",
     "text": [
      "Setting-up type transforms pipelines\n",
      "Collecting items from        tweet_id  ... agreement\n",
      "0      CL1KWCMY  ...  1.000000\n",
      "1      E3303EME  ...  1.000000\n",
      "2      M4IVFSMS  ...  1.000000\n",
      "3      1DR6ROZ4  ...  1.000000\n",
      "4      J77ENIIE  ...  1.000000\n",
      "...         ...  ...       ...\n",
      "9996   IU0TIJDI  ...  1.000000\n",
      "9997   WKKPCJY6  ...  0.666667\n",
      "9998   ST3A265H  ...  1.000000\n",
      "9999   6Z27IJGD  ...  1.000000\n",
      "10000  P6190L3Q  ...  0.666667\n",
      "\n",
      "[9999 rows x 4 columns]\n",
      "Found 9999 items\n",
      "2 datasets of sizes 8000,1999\n",
      "Setting up Pipeline: ColReader -> Tokenizer -> Numericalize\n"
     ]
    },
    {
     "data": {
      "text/html": [],
      "text/plain": [
       "<IPython.core.display.HTML object>"
      ]
     },
     "metadata": {
      "tags": []
     },
     "output_type": "display_data"
    },
    {
     "name": "stdout",
     "output_type": "stream",
     "text": [
      "Setting up Pipeline: ColReader -> RegressionSetup\n",
      "\n",
      "Building one sample\n",
      "  Pipeline: ColReader -> Tokenizer -> Numericalize\n",
      "    starting from\n",
      "      tweet_id                                                                                                                                                                                                                    HF5RFML5\n",
      "label                                                                                                                                                                                                                              0\n",
      "agreement                                                                                                                                                                                                                   0.666667\n",
      "text           [xxbos, i, find, it, hard, to, believe, that, no, one, saw, a, problem, with, \", diplomatic, immunity, ., \", xxmaj, it, 's, like, a, pass, to, go, on, a, killing, spree, ,, says, xxmaj, law, &, &, xxmaj, order, .]\n",
      "text_length                                                                                                                                                                                                                       40\n",
      "Name: 3327, dtype: object\n",
      "    applying ColReader gives\n",
      "      (#40) ['xxbos','i','find','it','hard','to','believe','that','no','one'...]\n",
      "    applying Tokenizer gives\n",
      "      (#40) ['xxbos','i','find','it','hard','to','believe','that','no','one'...]\n",
      "    applying Numericalize gives\n",
      "      TensorText of size 40\n",
      "  Pipeline: ColReader -> RegressionSetup\n",
      "    starting from\n",
      "      tweet_id                                                                                                                                                                                                                    HF5RFML5\n",
      "label                                                                                                                                                                                                                              0\n",
      "agreement                                                                                                                                                                                                                   0.666667\n",
      "text           [xxbos, i, find, it, hard, to, believe, that, no, one, saw, a, problem, with, \", diplomatic, immunity, ., \", xxmaj, it, 's, like, a, pass, to, go, on, a, killing, spree, ,, says, xxmaj, law, &, &, xxmaj, order, .]\n",
      "text_length                                                                                                                                                                                                                       40\n",
      "Name: 3327, dtype: object\n",
      "    applying ColReader gives\n",
      "      0.0\n",
      "    applying RegressionSetup gives\n",
      "      tensor(0.)\n",
      "\n",
      "Final sample: (TensorText([   2,   21,  455,   40,  574,   16,  228,   41,   68,  123,  792,   19,\n",
      "         622,   56,   31, 1667,   65,   11,   31,    8,   40,   38,   93,   19,\n",
      "         790,   16,  155,   49,   19,  340,    0,   17,  199,    8,  353,   39,\n",
      "          39,    8, 1697,   11]), tensor(0.))\n",
      "\n",
      "\n"
     ]
    },
    {
     "data": {
      "text/html": [],
      "text/plain": [
       "<IPython.core.display.HTML object>"
      ]
     },
     "metadata": {
      "tags": []
     },
     "output_type": "display_data"
    },
    {
     "name": "stdout",
     "output_type": "stream",
     "text": [
      "Setting up after_item: Pipeline: ToTensor\n",
      "Setting up before_batch: Pipeline: partial\n",
      "Setting up after_batch: Pipeline: \n",
      "\n",
      "Building one batch\n",
      "Applying item_tfms to the first sample:\n",
      "  Pipeline: ToTensor\n",
      "    starting from\n",
      "      (TensorText of size 40, tensor(0.))\n",
      "    applying ToTensor gives\n",
      "      (TensorText of size 40, tensor(0.))\n",
      "\n",
      "Adding the next 3 samples\n",
      "\n",
      "Applying before_batch to the list of samples\n",
      "  Pipeline: partial\n",
      "    starting from\n",
      "      [(TensorText of size 40, tensor(0.)), (TensorText of size 28, tensor(0.)), (TensorText of size 27, tensor(1.)), (TensorText of size 33, tensor(1.))]\n",
      "    applying partial gives\n",
      "      [(TensorText of size 40, tensor(0.)), (TensorText of size 40, tensor(0.)), (TensorText of size 40, tensor(1.)), (TensorText of size 40, tensor(1.))]\n",
      "\n",
      "Collating items in a batch\n",
      "\n",
      "No batch_tfms to apply\n"
     ]
    }
   ],
   "source": [
    "vaccinate_reg.summary(source=train_df)"
   ]
  },
  {
   "cell_type": "code",
   "execution_count": null,
   "metadata": {
    "colab": {
     "base_uri": "https://localhost:8080/",
     "height": 68
    },
    "colab_type": "code",
    "id": "0hOpm4Yvqa6d",
    "outputId": "f303aecd-cbbb-41ec-b4cc-67837c4a1368"
   },
   "outputs": [
    {
     "data": {
      "text/html": [],
      "text/plain": [
       "<IPython.core.display.HTML object>"
      ]
     },
     "metadata": {
      "tags": []
     },
     "output_type": "display_data"
    },
    {
     "name": "stdout",
     "output_type": "stream",
     "text": [
      "Setting up after_item: Pipeline: ToTensor\n",
      "Setting up before_batch: Pipeline: partial\n",
      "Setting up after_batch: Pipeline: \n"
     ]
    }
   ],
   "source": [
    "dls_reg = vaccinate_reg.dataloaders(source=train_df, verbose=True, bs=64, seq_len=72)"
   ]
  },
  {
   "cell_type": "code",
   "execution_count": null,
   "metadata": {
    "colab": {},
    "colab_type": "code",
    "id": "fwixsLazsqMT"
   },
   "outputs": [],
   "source": [
    "x, y = dls_reg.one_batch()"
   ]
  },
  {
   "cell_type": "code",
   "execution_count": null,
   "metadata": {
    "colab": {
     "base_uri": "https://localhost:8080/",
     "height": 34
    },
    "colab_type": "code",
    "id": "yEIz52l5swEV",
    "outputId": "82ab3b13-990e-4428-d070-2bd31f44538b"
   },
   "outputs": [
    {
     "data": {
      "text/plain": [
       "(torch.Size([64, 53]), torch.Size([64]))"
      ]
     },
     "execution_count": 68,
     "metadata": {
      "tags": []
     },
     "output_type": "execute_result"
    }
   ],
   "source": [
    "x.shape, y.shape # One would expect seq_len as 72 but we get 53 Why???"
   ]
  },
  {
   "cell_type": "code",
   "execution_count": null,
   "metadata": {
    "colab": {
     "base_uri": "https://localhost:8080/",
     "height": 379
    },
    "colab_type": "code",
    "id": "wJvlC69Ps2gn",
    "outputId": "b79566f0-a680-4f7f-8edd-490ed0d72527"
   },
   "outputs": [
    {
     "data": {
      "text/html": [
       "<table border=\"1\" class=\"dataframe\">\n",
       "  <thead>\n",
       "    <tr style=\"text-align: right;\">\n",
       "      <th></th>\n",
       "      <th>text</th>\n",
       "      <th>text_</th>\n",
       "    </tr>\n",
       "  </thead>\n",
       "  <tbody>\n",
       "    <tr>\n",
       "      <th>0</th>\n",
       "      <td>xxbos &lt; user &gt; xxmaj how xxmaj could xxmaj you xxmaj put xxmaj ur xxmaj child xxmaj in xxmaj so xxmaj much xxmaj danger ? xxmaj most xxmaj of xxmaj the xxmaj diseases xxmaj that xxmaj they xxmaj have xxmaj vaccines 4 , i xxmaj had xxmaj xxunk . xxmaj vaccinate . xxunk</td>\n",
       "      <td>1.0</td>\n",
       "    </tr>\n",
       "    <tr>\n",
       "      <th>1</th>\n",
       "      <td>xxbos am - news : xxmaj week xxmaj ahead : xxup xxunk in the xxup er , xxup hiv xxmaj news , xxmaj docs on xxmaj measles xxmaj vaccine : xxmaj week xxmaj ahead : xxup xxunk in the xxup er , xxup hiv xxmaj news , xxmaj docs … &lt; url &gt;</td>\n",
       "      <td>0.0</td>\n",
       "    </tr>\n",
       "    <tr>\n",
       "      <th>2</th>\n",
       "      <td>xxbos xxup like xxup why xxup the xxup fuck xxup are xxup people xxup not xxup vaccinating xxup their xxup kids ? ! ? ! ? ! i xxup do nt xxup get xxup it &amp; &amp; xxup it xxup xxunk xxup me xxup off xxrep 3 !</td>\n",
       "      <td>1.0</td>\n",
       "    </tr>\n",
       "    <tr>\n",
       "      <th>3</th>\n",
       "      <td>xxbos i xxmaj know xxmaj i 'm xxmaj late xxup af xxmaj but xxmaj happy # xxunk xxmaj to xxmaj my xxmaj xxunk &lt; user &gt; xxmaj turn xxmaj up xxmaj lil xxmaj bro ! 💯 # xxup mmr @ xxup xxunk xxmaj south … &lt; url &gt;</td>\n",
       "      <td>0.0</td>\n",
       "    </tr>\n",
       "    <tr>\n",
       "      <th>4</th>\n",
       "      <td>xxbos &lt; user &gt; &lt; user &gt; xxmaj ppl xxmaj need 2 xxmaj immunize xxmaj their xxmaj kids . xxmaj do xxmaj research . xxmaj most xxmaj diseases xxup worse xxup than xxup inoculation . xxup stop xxmaj this xxmaj misguided xxmaj insanity , xxmaj shots !</td>\n",
       "      <td>1.0</td>\n",
       "    </tr>\n",
       "    <tr>\n",
       "      <th>5</th>\n",
       "      <td>xxbos xxmaj let 's get this straight , first it was xxup isis , then it was xxmaj ebola , then back to xxup isis , and now … xxmaj measles ? xxmaj fake xxup isis threats ? xxmaj yep . xxmaj fear . xxmaj fear .</td>\n",
       "      <td>0.0</td>\n",
       "    </tr>\n",
       "    <tr>\n",
       "      <th>6</th>\n",
       "      <td>xxbos &lt; user &gt; &lt; user &gt; &lt; user &gt; xxup smdh # xxmaj flu # xxmaj vaccines , # xxmaj pharma # xxmaj fraud , # xxmaj quack # xxmaj science , the # xxup cdc &amp; &amp; # xxup who # health &lt; url &gt;</td>\n",
       "      <td>-1.0</td>\n",
       "    </tr>\n",
       "    <tr>\n",
       "      <th>7</th>\n",
       "      <td>xxbos xxup not inspiring to hear xxmaj another xxmaj xxunk in the xxmaj xxunk this xxup am . xxmaj my gr 8 class voted to sing it at grad ( xxunk ) &amp; &amp; then i heard it on xxup mmr , not xxup xxunk .</td>\n",
       "      <td>0.0</td>\n",
       "    </tr>\n",
       "    <tr>\n",
       "      <th>8</th>\n",
       "      <td>xxbos [ to roommate ] \\n \" we should go get flu vaccines . \" \\n xxmaj why ? \\n \" well , the flu is n't a great a great disease . \" \\n xxmaj the flu is fine . \\n \" ok . \"</td>\n",
       "      <td>0.0</td>\n",
       "    </tr>\n",
       "  </tbody>\n",
       "</table>"
      ],
      "text/plain": [
       "<IPython.core.display.HTML object>"
      ]
     },
     "metadata": {
      "tags": []
     },
     "output_type": "display_data"
    }
   ],
   "source": [
    "dls_reg.show_batch()"
   ]
  },
  {
   "cell_type": "markdown",
   "metadata": {
    "colab_type": "text",
    "id": "DuLo-ZFytOIO"
   },
   "source": [
    "## Regression Learner"
   ]
  },
  {
   "cell_type": "code",
   "execution_count": null,
   "metadata": {
    "colab": {
     "base_uri": "https://localhost:8080/",
     "height": 161
    },
    "colab_type": "code",
    "id": "OVbIaHHLtWtE",
    "outputId": "f90fcb79-b35a-494f-d08b-22d019dbbe6e"
   },
   "outputs": [
    {
     "data": {
      "text/html": [
       "<h4 id=\"text_classifier_learner\" class=\"doc_header\"><code>text_classifier_learner</code><a href=\"https://github.com/fastai/fastai2/tree/master/fastai2/text/learner.py#L216\" class=\"source_link\" style=\"float:right\">[source]</a></h4><blockquote><p><code>text_classifier_learner</code>(<strong><code>dls</code></strong>, <strong><code>arch</code></strong>, <strong><code>seq_len</code></strong>=<em><code>72</code></em>, <strong><code>config</code></strong>=<em><code>None</code></em>, <strong><code>pretrained</code></strong>=<em><code>True</code></em>, <strong><code>drop_mult</code></strong>=<em><code>0.5</code></em>, <strong><code>n_out</code></strong>=<em><code>None</code></em>, <strong><code>lin_ftrs</code></strong>=<em><code>None</code></em>, <strong><code>ps</code></strong>=<em><code>None</code></em>, <strong><code>max_len</code></strong>=<em><code>1440</code></em>, <strong><code>y_range</code></strong>=<em><code>None</code></em>, <strong><code>loss_func</code></strong>=<em><code>None</code></em>, <strong><code>opt_func</code></strong>=<em><code>'Adam'</code></em>, <strong><code>lr</code></strong>=<em><code>0.001</code></em>, <strong><code>splitter</code></strong>=<em><code>'trainable_params'</code></em>, <strong><code>cbs</code></strong>=<em><code>None</code></em>, <strong><code>metrics</code></strong>=<em><code>None</code></em>, <strong><code>path</code></strong>=<em><code>None</code></em>, <strong><code>model_dir</code></strong>=<em><code>'models'</code></em>, <strong><code>wd</code></strong>=<em><code>None</code></em>, <strong><code>wd_bn_bias</code></strong>=<em><code>False</code></em>, <strong><code>train_bn</code></strong>=<em><code>True</code></em>, <strong><code>moms</code></strong>=<em><code>(0.95, 0.85, 0.95)</code></em>)</p>\n",
       "</blockquote>\n",
       "<p>Create a <code>Learner</code> with a text classifier from <code>dls</code> and <code>arch</code>.</p>\n",
       "<p><a href=\"https://dev.fast.ai/text.learner#text_classifier_learner\" target=\"_blank\" rel=\"noreferrer noopener\">Show in docs</a></p>\n"
      ],
      "text/plain": [
       "<IPython.core.display.HTML object>"
      ]
     },
     "metadata": {
      "tags": []
     },
     "output_type": "display_data"
    }
   ],
   "source": [
    "doc(text_classifier_learner)"
   ]
  },
  {
   "cell_type": "code",
   "execution_count": null,
   "metadata": {
    "colab": {},
    "colab_type": "code",
    "id": "MnXmBa8ZtZHL"
   },
   "outputs": [],
   "source": [
    "learn_reg = text_classifier_learner(dls=dls_reg, \n",
    "                                    arch=AWD_LSTM, \n",
    "                                    pretrained=True,\n",
    "                                    loss_func=MSELossFlat(),\n",
    "                                    metrics=[rmse],\n",
    "                                    y_range=(-1.2, 1.2)\n",
    "                                    ) # Loss func ?? Metrics ??? y_range??? encoder ???"
   ]
  },
  {
   "cell_type": "code",
   "execution_count": null,
   "metadata": {
    "colab": {
     "base_uri": "https://localhost:8080/",
     "height": 34
    },
    "colab_type": "code",
    "id": "6SXtSRHRuwHb",
    "outputId": "ef322a9a-2b00-4ffd-95e8-e07f16372e60"
   },
   "outputs": [
    {
     "data": {
      "text/plain": [
       "<fastai2.text.learner.TextLearner at 0x7fedb215c860>"
      ]
     },
     "execution_count": 72,
     "metadata": {
      "tags": []
     },
     "output_type": "execute_result"
    }
   ],
   "source": [
    "learn_reg.load_encoder('fine_tuned_enc')"
   ]
  },
  {
   "cell_type": "code",
   "execution_count": null,
   "metadata": {
    "colab": {
     "base_uri": "https://localhost:8080/",
     "height": 731
    },
    "colab_type": "code",
    "id": "HYP_T_mBuosJ",
    "outputId": "0d5cfbe1-eff1-43d1-d8ee-f200255af9d9"
   },
   "outputs": [
    {
     "data": {
      "text/plain": [
       "SequentialRNN (Input shape: ['64 x 53'])\n",
       "================================================================\n",
       "Layer (type)         Output Shape         Param #    Trainable \n",
       "================================================================\n",
       "RNNDropout           64 x 53 x 400        0          False     \n",
       "________________________________________________________________\n",
       "RNNDropout           64 x 53 x 1152       0          False     \n",
       "________________________________________________________________\n",
       "RNNDropout           64 x 53 x 1152       0          False     \n",
       "________________________________________________________________\n",
       "BatchNorm1d          64 x 1200            2,400      True      \n",
       "________________________________________________________________\n",
       "Dropout              64 x 1200            0          False     \n",
       "________________________________________________________________\n",
       "Linear               64 x 50              60,000     True      \n",
       "________________________________________________________________\n",
       "ReLU                 64 x 50              0          False     \n",
       "________________________________________________________________\n",
       "BatchNorm1d          64 x 50              100        True      \n",
       "________________________________________________________________\n",
       "Dropout              64 x 50              0          False     \n",
       "________________________________________________________________\n",
       "Linear               64 x 1               50         True      \n",
       "________________________________________________________________\n",
       "SigmoidRange         64 x 1               0          False     \n",
       "________________________________________________________________\n",
       "\n",
       "Total params: 62,550\n",
       "Total trainable params: 62,550\n",
       "Total non-trainable params: 0\n",
       "\n",
       "Optimizer used: <function Adam at 0x7fee89ac9d90>\n",
       "Loss function: FlattenedLoss of MSELoss()\n",
       "\n",
       "Model frozen up to parameter group number 4\n",
       "\n",
       "Callbacks:\n",
       "  - TrainEvalCallback\n",
       "  - Recorder\n",
       "  - ProgressCallback\n",
       "  - ModelReseter\n",
       "  - RNNRegularizer"
      ]
     },
     "execution_count": 73,
     "metadata": {
      "tags": []
     },
     "output_type": "execute_result"
    }
   ],
   "source": [
    "learn_reg.summary()"
   ]
  },
  {
   "cell_type": "code",
   "execution_count": null,
   "metadata": {
    "colab": {
     "base_uri": "https://localhost:8080/",
     "height": 302
    },
    "colab_type": "code",
    "id": "X5hUmDHOutZI",
    "outputId": "e8dc4f54-5c0a-4ea7-ba6b-1d04db2a773f"
   },
   "outputs": [
    {
     "data": {
      "text/html": [],
      "text/plain": [
       "<IPython.core.display.HTML object>"
      ]
     },
     "metadata": {
      "tags": []
     },
     "output_type": "display_data"
    },
    {
     "data": {
      "text/plain": [
       "SuggestedLRs(lr_min=0.017378008365631102, lr_steep=9.12010818865383e-07)"
      ]
     },
     "execution_count": 74,
     "metadata": {
      "tags": []
     },
     "output_type": "execute_result"
    },
    {
     "data": {
      "image/png": "[encoded data removed]",
      "text/plain": [
       "<Figure size 432x288 with 1 Axes>"
      ]
     },
     "metadata": {
      "needs_background": "light",
      "tags": []
     },
     "output_type": "display_data"
    }
   ],
   "source": [
    "learn_reg.lr_find()"
   ]
  },
  {
   "cell_type": "code",
   "execution_count": null,
   "metadata": {
    "colab": {},
    "colab_type": "code",
    "id": "ttpPc5ysvKAb"
   },
   "outputs": [],
   "source": [
    "lr=1e-2"
   ]
  },
  {
   "cell_type": "code",
   "execution_count": null,
   "metadata": {
    "colab": {
     "base_uri": "https://localhost:8080/",
     "height": 205
    },
    "colab_type": "code",
    "id": "vPlh7W5OvcP8",
    "outputId": "5f58b7d2-7e7b-43fe-9a54-245a22cba7ba"
   },
   "outputs": [
    {
     "data": {
      "text/html": [
       "<table border=\"1\" class=\"dataframe\">\n",
       "  <thead>\n",
       "    <tr style=\"text-align: left;\">\n",
       "      <th>epoch</th>\n",
       "      <th>train_loss</th>\n",
       "      <th>valid_loss</th>\n",
       "      <th>_rmse</th>\n",
       "      <th>time</th>\n",
       "    </tr>\n",
       "  </thead>\n",
       "  <tbody>\n",
       "    <tr>\n",
       "      <td>0</td>\n",
       "      <td>0.517643</td>\n",
       "      <td>0.393474</td>\n",
       "      <td>0.627276</td>\n",
       "      <td>00:11</td>\n",
       "    </tr>\n",
       "  </tbody>\n",
       "</table>"
      ],
      "text/plain": [
       "<IPython.core.display.HTML object>"
      ]
     },
     "metadata": {
      "tags": []
     },
     "output_type": "display_data"
    },
    {
     "data": {
      "text/html": [
       "<table border=\"1\" class=\"dataframe\">\n",
       "  <thead>\n",
       "    <tr style=\"text-align: left;\">\n",
       "      <th>epoch</th>\n",
       "      <th>train_loss</th>\n",
       "      <th>valid_loss</th>\n",
       "      <th>_rmse</th>\n",
       "      <th>time</th>\n",
       "    </tr>\n",
       "  </thead>\n",
       "  <tbody>\n",
       "    <tr>\n",
       "      <td>0</td>\n",
       "      <td>0.407758</td>\n",
       "      <td>0.361201</td>\n",
       "      <td>0.601000</td>\n",
       "      <td>00:13</td>\n",
       "    </tr>\n",
       "    <tr>\n",
       "      <td>1</td>\n",
       "      <td>0.345667</td>\n",
       "      <td>0.342141</td>\n",
       "      <td>0.584928</td>\n",
       "      <td>00:13</td>\n",
       "    </tr>\n",
       "    <tr>\n",
       "      <td>2</td>\n",
       "      <td>0.292315</td>\n",
       "      <td>0.336554</td>\n",
       "      <td>0.580133</td>\n",
       "      <td>00:13</td>\n",
       "    </tr>\n",
       "  </tbody>\n",
       "</table>"
      ],
      "text/plain": [
       "<IPython.core.display.HTML object>"
      ]
     },
     "metadata": {
      "tags": []
     },
     "output_type": "display_data"
    }
   ],
   "source": [
    "learn_reg.fine_tune(epochs=3, base_lr=lr)"
   ]
  },
  {
   "cell_type": "markdown",
   "metadata": {
    "colab_type": "text",
    "id": "RYFGcKKTvjIF"
   },
   "source": [
    "## Predictions"
   ]
  },
  {
   "cell_type": "code",
   "execution_count": null,
   "metadata": {
    "colab": {
     "base_uri": "https://localhost:8080/",
     "height": 419
    },
    "colab_type": "code",
    "id": "Y6hSZ72hfMP-",
    "outputId": "22e07a95-947b-411e-e17e-881e12ff2330"
   },
   "outputs": [
    {
     "data": {
      "text/html": [
       "<div>\n",
       "<style scoped>\n",
       "    .dataframe tbody tr th:only-of-type {\n",
       "        vertical-align: middle;\n",
       "    }\n",
       "\n",
       "    .dataframe tbody tr th {\n",
       "        vertical-align: top;\n",
       "    }\n",
       "\n",
       "    .dataframe thead th {\n",
       "        text-align: right;\n",
       "    }\n",
       "</style>\n",
       "<table border=\"1\" class=\"dataframe\">\n",
       "  <thead>\n",
       "    <tr style=\"text-align: right;\">\n",
       "      <th></th>\n",
       "      <th>tweet_id</th>\n",
       "      <th>safe_text</th>\n",
       "    </tr>\n",
       "  </thead>\n",
       "  <tbody>\n",
       "    <tr>\n",
       "      <th>0</th>\n",
       "      <td>00BHHHP1</td>\n",
       "      <td>&lt;user&gt; &lt;user&gt; ... &amp;amp; 4 a vaccine given 2 healthy peeps, FDA think just not worth the AE risk unfortunately.</td>\n",
       "    </tr>\n",
       "    <tr>\n",
       "      <th>1</th>\n",
       "      <td>00UNMD0E</td>\n",
       "      <td>Students starting school without whooping cough vaccinations &lt;url&gt; #scpick</td>\n",
       "    </tr>\n",
       "    <tr>\n",
       "      <th>2</th>\n",
       "      <td>01AXPTJF</td>\n",
       "      <td>I'm kinda over every ep of &lt;user&gt; being \"ripped from the headlines.\" Measles? Let's get back to crime. #SVU</td>\n",
       "    </tr>\n",
       "    <tr>\n",
       "      <th>3</th>\n",
       "      <td>01HOEQJW</td>\n",
       "      <td>How many innocent children die for lack of vaccination each year? Around 1.5 million. Too bad all their parents couldn't be here. #SB277</td>\n",
       "    </tr>\n",
       "    <tr>\n",
       "      <th>4</th>\n",
       "      <td>01JUKMAO</td>\n",
       "      <td>CDC eyeing bird flu vaccine for humans, though risk is low: Federal officials said Wednesday they're taking steps… &lt;url&gt;</td>\n",
       "    </tr>\n",
       "    <tr>\n",
       "      <th>...</th>\n",
       "      <td>...</td>\n",
       "      <td>...</td>\n",
       "    </tr>\n",
       "    <tr>\n",
       "      <th>5172</th>\n",
       "      <td>ZXVVNC5O</td>\n",
       "      <td>jenny mccarthy is on new years rockin eve. what has she done lately besides not vaccinate her kids and give us all goddamn polio??</td>\n",
       "    </tr>\n",
       "    <tr>\n",
       "      <th>5173</th>\n",
       "      <td>ZYIANVI8</td>\n",
       "      <td>Measles reported in Clark Co. for 1st time since 2011 &lt;url&gt;</td>\n",
       "    </tr>\n",
       "    <tr>\n",
       "      <th>5174</th>\n",
       "      <td>ZYITEHAH</td>\n",
       "      <td>&lt;user&gt; issues alert regarding Measles in TX. Keep your DDx up to date, people! #Emergencymedicine</td>\n",
       "    </tr>\n",
       "    <tr>\n",
       "      <th>5175</th>\n",
       "      <td>ZZ3BMBTG</td>\n",
       "      <td>I can't believe people don't vaccinate their kids! I've been vaccinated for everything and then some.</td>\n",
       "    </tr>\n",
       "    <tr>\n",
       "      <th>5176</th>\n",
       "      <td>ZZIYCVNH</td>\n",
       "      <td>\"&lt;user&gt;  Alternatives to #Flu Vaccine &lt;url&gt; #natural #health\" A good read with a few new tips &amp;amp; many we #jerf folk know</td>\n",
       "    </tr>\n",
       "  </tbody>\n",
       "</table>\n",
       "<p>5177 rows × 2 columns</p>\n",
       "</div>"
      ],
      "text/plain": [
       "      tweet_id                                                                                                                                 safe_text\n",
       "0     00BHHHP1                            <user> <user> ... &amp; 4 a vaccine given 2 healthy peeps, FDA think just not worth the AE risk unfortunately.\n",
       "1     00UNMD0E                                                                Students starting school without whooping cough vaccinations <url> #scpick\n",
       "2     01AXPTJF                               I'm kinda over every ep of <user> being \"ripped from the headlines.\" Measles? Let's get back to crime. #SVU\n",
       "3     01HOEQJW  How many innocent children die for lack of vaccination each year? Around 1.5 million. Too bad all their parents couldn't be here. #SB277\n",
       "4     01JUKMAO                  CDC eyeing bird flu vaccine for humans, though risk is low: Federal officials said Wednesday they're taking steps… <url>\n",
       "...        ...                                                                                                                                       ...\n",
       "5172  ZXVVNC5O        jenny mccarthy is on new years rockin eve. what has she done lately besides not vaccinate her kids and give us all goddamn polio??\n",
       "5173  ZYIANVI8                                                                               Measles reported in Clark Co. for 1st time since 2011 <url>\n",
       "5174  ZYITEHAH                                         <user> issues alert regarding Measles in TX. Keep your DDx up to date, people! #Emergencymedicine\n",
       "5175  ZZ3BMBTG                                     I can't believe people don't vaccinate their kids! I've been vaccinated for everything and then some.\n",
       "5176  ZZIYCVNH               \"<user>  Alternatives to #Flu Vaccine <url> #natural #health\" A good read with a few new tips &amp; many we #jerf folk know\n",
       "\n",
       "[5177 rows x 2 columns]"
      ]
     },
     "execution_count": 77,
     "metadata": {
      "tags": []
     },
     "output_type": "execute_result"
    }
   ],
   "source": [
    "test_df"
   ]
  },
  {
   "cell_type": "code",
   "execution_count": null,
   "metadata": {
    "colab": {
     "base_uri": "https://localhost:8080/",
     "height": 144
    },
    "colab_type": "code",
    "id": "Kt7S8QQGgK7g",
    "outputId": "013188d0-9298-4425-a4af-050a582891a8"
   },
   "outputs": [
    {
     "data": {
      "text/html": [
       "<h4 id=\"DataLoaders.test_dl\" class=\"doc_header\"><code>DataLoaders.test_dl</code><a href=\"https://github.com/fastai/fastai2/tree/master/fastai2/data/core.py#L352\" class=\"source_link\" style=\"float:right\">[source]</a></h4><blockquote><p><code>DataLoaders.test_dl</code>(<strong><code>test_items</code></strong>, <strong><code>rm_type_tfms</code></strong>=<em><code>None</code></em>, <strong><code>with_labels</code></strong>=<em><code>False</code></em>, <strong>**<code>kwargs</code></strong>)</p>\n",
       "</blockquote>\n",
       "<p>Create a test dataloader from <code>test_items</code> using validation transforms of <code>dls</code></p>\n",
       "<p><a href=\"https://dev.fast.ai/data.core#DataLoaders.test_dl\" target=\"_blank\" rel=\"noreferrer noopener\">Show in docs</a></p>\n"
      ],
      "text/plain": [
       "<IPython.core.display.HTML object>"
      ]
     },
     "metadata": {
      "tags": []
     },
     "output_type": "display_data"
    }
   ],
   "source": [
    "doc(learn_reg.dls.test_dl)"
   ]
  },
  {
   "cell_type": "code",
   "execution_count": null,
   "metadata": {
    "colab": {},
    "colab_type": "code",
    "id": "KjjXD7awhAIQ"
   },
   "outputs": [],
   "source": [
    "test_dl = learn_reg.dls.test_dl(test_items=test_df['safe_text'], verbose=True)"
   ]
  },
  {
   "cell_type": "code",
   "execution_count": null,
   "metadata": {
    "colab": {},
    "colab_type": "code",
    "id": "d7XOC9B9hYgQ"
   },
   "outputs": [],
   "source": []
  },
  {
   "cell_type": "code",
   "execution_count": null,
   "metadata": {
    "colab": {
     "base_uri": "https://localhost:8080/",
     "height": 144
    },
    "colab_type": "code",
    "id": "rNoNvpCRfu3k",
    "outputId": "262e9d6e-6b9c-4862-a9b3-d228580866f9"
   },
   "outputs": [
    {
     "data": {
      "text/html": [
       "<h4 id=\"Learner.get_preds\" class=\"doc_header\"><code>Learner.get_preds</code><a href=\"https://github.com/fastai/fastai2/tree/master/fastai2/learner.py#L216\" class=\"source_link\" style=\"float:right\">[source]</a></h4><blockquote><p><code>Learner.get_preds</code>(<strong><code>ds_idx</code></strong>=<em><code>1</code></em>, <strong><code>dl</code></strong>=<em><code>None</code></em>, <strong><code>with_input</code></strong>=<em><code>False</code></em>, <strong><code>with_decoded</code></strong>=<em><code>False</code></em>, <strong><code>with_loss</code></strong>=<em><code>False</code></em>, <strong><code>act</code></strong>=<em><code>None</code></em>, <strong><code>inner</code></strong>=<em><code>False</code></em>, <strong><code>reorder</code></strong>=<em><code>True</code></em>, <strong><code>save_preds</code></strong>=<em><code>None</code></em>, <strong><code>save_targs</code></strong>=<em><code>None</code></em>, <strong><code>concat_dim</code></strong>=<em><code>0</code></em>)</p>\n",
       "</blockquote>\n",
       "<p>Get the predictions and targets on the <code>ds_idx</code>-th dbunchset or <code>dl</code>, optionally <code>with_input</code> and <code>with_loss</code></p>\n",
       "<p><a href=\"https://dev.fast.ai/learner#Learner.get_preds\" target=\"_blank\" rel=\"noreferrer noopener\">Show in docs</a></p>\n"
      ],
      "text/plain": [
       "<IPython.core.display.HTML object>"
      ]
     },
     "metadata": {
      "tags": []
     },
     "output_type": "display_data"
    }
   ],
   "source": [
    "doc(learn_reg.get_preds)"
   ]
  },
  {
   "cell_type": "code",
   "execution_count": null,
   "metadata": {
    "colab": {
     "base_uri": "https://localhost:8080/",
     "height": 238
    },
    "colab_type": "code",
    "id": "3CM7Ss64k9DW",
    "outputId": "9a578ffb-8d29-4e0f-9bfb-2098ed6f195e"
   },
   "outputs": [
    {
     "data": {
      "text/html": [],
      "text/plain": [
       "<IPython.core.display.HTML object>"
      ]
     },
     "metadata": {
      "tags": []
     },
     "output_type": "display_data"
    },
    {
     "data": {
      "text/plain": [
       "(tensor([[-0.0063],\n",
       "         [ 0.8084],\n",
       "         [ 0.2124],\n",
       "         ...,\n",
       "         [ 0.2862],\n",
       "         [ 0.8839],\n",
       "         [ 0.4553]]), None, tensor([[-0.0063],\n",
       "         [ 0.8084],\n",
       "         [ 0.2124],\n",
       "         ...,\n",
       "         [ 0.2862],\n",
       "         [ 0.8839],\n",
       "         [ 0.4553]]))"
      ]
     },
     "execution_count": 83,
     "metadata": {
      "tags": []
     },
     "output_type": "execute_result"
    }
   ],
   "source": [
    "learn_reg.get_preds(dl=test_dl, with_decoded=True)"
   ]
  },
  {
   "cell_type": "code",
   "execution_count": null,
   "metadata": {
    "colab": {
     "base_uri": "https://localhost:8080/",
     "height": 17
    },
    "colab_type": "code",
    "id": "7ubeiPGhf0X5",
    "outputId": "15f81225-4d0b-4c57-8a9f-bd91f117e136"
   },
   "outputs": [
    {
     "data": {
      "text/html": [],
      "text/plain": [
       "<IPython.core.display.HTML object>"
      ]
     },
     "metadata": {
      "tags": []
     },
     "output_type": "display_data"
    }
   ],
   "source": [
    "preds, _ , preds_raw = learn_reg.get_preds(dl=test_dl, with_decoded=True)"
   ]
  },
  {
   "cell_type": "markdown",
   "metadata": {
    "colab_type": "text",
    "id": "GThhqarXkTCA"
   },
   "source": [
    "## Submissions"
   ]
  },
  {
   "cell_type": "code",
   "execution_count": null,
   "metadata": {
    "colab": {
     "base_uri": "https://localhost:8080/",
     "height": 34
    },
    "colab_type": "code",
    "id": "25JE7nmjlcTe",
    "outputId": "be950750-6cc5-4543-e5ce-5307598e21f1"
   },
   "outputs": [
    {
     "data": {
      "text/plain": [
       "(#4) [Path('SampleSubmission.csv'),Path('Train.csv'),Path('Test.csv'),Path('models')]"
      ]
     },
     "execution_count": 85,
     "metadata": {
      "tags": []
     },
     "output_type": "execute_result"
    }
   ],
   "source": [
    "vaccinate_tweets.ls()"
   ]
  },
  {
   "cell_type": "code",
   "execution_count": null,
   "metadata": {
    "colab": {},
    "colab_type": "code",
    "id": "k83zsUAGlMTb"
   },
   "outputs": [],
   "source": [
    "submission = pd.read_csv(vaccinate_tweets/'SampleSubmission.csv')"
   ]
  },
  {
   "cell_type": "code",
   "execution_count": null,
   "metadata": {
    "colab": {
     "base_uri": "https://localhost:8080/",
     "height": 204
    },
    "colab_type": "code",
    "id": "27zMhh7Alhq7",
    "outputId": "22d9ab26-20dd-412f-db99-507fc4278dfd"
   },
   "outputs": [
    {
     "data": {
      "text/html": [
       "<div>\n",
       "<style scoped>\n",
       "    .dataframe tbody tr th:only-of-type {\n",
       "        vertical-align: middle;\n",
       "    }\n",
       "\n",
       "    .dataframe tbody tr th {\n",
       "        vertical-align: top;\n",
       "    }\n",
       "\n",
       "    .dataframe thead th {\n",
       "        text-align: right;\n",
       "    }\n",
       "</style>\n",
       "<table border=\"1\" class=\"dataframe\">\n",
       "  <thead>\n",
       "    <tr style=\"text-align: right;\">\n",
       "      <th></th>\n",
       "      <th>tweet_id</th>\n",
       "      <th>label</th>\n",
       "    </tr>\n",
       "  </thead>\n",
       "  <tbody>\n",
       "    <tr>\n",
       "      <th>0</th>\n",
       "      <td>00BHHHP1</td>\n",
       "      <td>0</td>\n",
       "    </tr>\n",
       "    <tr>\n",
       "      <th>1</th>\n",
       "      <td>00UNMD0E</td>\n",
       "      <td>0</td>\n",
       "    </tr>\n",
       "    <tr>\n",
       "      <th>2</th>\n",
       "      <td>01AXPTJF</td>\n",
       "      <td>0</td>\n",
       "    </tr>\n",
       "    <tr>\n",
       "      <th>3</th>\n",
       "      <td>01HOEQJW</td>\n",
       "      <td>0</td>\n",
       "    </tr>\n",
       "    <tr>\n",
       "      <th>4</th>\n",
       "      <td>01JUKMAO</td>\n",
       "      <td>0</td>\n",
       "    </tr>\n",
       "  </tbody>\n",
       "</table>\n",
       "</div>"
      ],
      "text/plain": [
       "   tweet_id  label\n",
       "0  00BHHHP1      0\n",
       "1  00UNMD0E      0\n",
       "2  01AXPTJF      0\n",
       "3  01HOEQJW      0\n",
       "4  01JUKMAO      0"
      ]
     },
     "execution_count": 87,
     "metadata": {
      "tags": []
     },
     "output_type": "execute_result"
    }
   ],
   "source": [
    "submission.head()"
   ]
  },
  {
   "cell_type": "code",
   "execution_count": null,
   "metadata": {
    "colab": {},
    "colab_type": "code",
    "id": "RvKcgUR9ljox"
   },
   "outputs": [],
   "source": [
    "submission['label'] = preds.flatten()"
   ]
  },
  {
   "cell_type": "code",
   "execution_count": null,
   "metadata": {
    "colab": {
     "base_uri": "https://localhost:8080/",
     "height": 204
    },
    "colab_type": "code",
    "id": "zrAkWgS-lqqr",
    "outputId": "a5c161c0-4d13-4a51-8df1-54e789b39572"
   },
   "outputs": [
    {
     "data": {
      "text/html": [
       "<div>\n",
       "<style scoped>\n",
       "    .dataframe tbody tr th:only-of-type {\n",
       "        vertical-align: middle;\n",
       "    }\n",
       "\n",
       "    .dataframe tbody tr th {\n",
       "        vertical-align: top;\n",
       "    }\n",
       "\n",
       "    .dataframe thead th {\n",
       "        text-align: right;\n",
       "    }\n",
       "</style>\n",
       "<table border=\"1\" class=\"dataframe\">\n",
       "  <thead>\n",
       "    <tr style=\"text-align: right;\">\n",
       "      <th></th>\n",
       "      <th>tweet_id</th>\n",
       "      <th>label</th>\n",
       "    </tr>\n",
       "  </thead>\n",
       "  <tbody>\n",
       "    <tr>\n",
       "      <th>0</th>\n",
       "      <td>00BHHHP1</td>\n",
       "      <td>-0.006287</td>\n",
       "    </tr>\n",
       "    <tr>\n",
       "      <th>1</th>\n",
       "      <td>00UNMD0E</td>\n",
       "      <td>0.808357</td>\n",
       "    </tr>\n",
       "    <tr>\n",
       "      <th>2</th>\n",
       "      <td>01AXPTJF</td>\n",
       "      <td>0.212385</td>\n",
       "    </tr>\n",
       "    <tr>\n",
       "      <th>3</th>\n",
       "      <td>01HOEQJW</td>\n",
       "      <td>0.994107</td>\n",
       "    </tr>\n",
       "    <tr>\n",
       "      <th>4</th>\n",
       "      <td>01JUKMAO</td>\n",
       "      <td>0.177752</td>\n",
       "    </tr>\n",
       "  </tbody>\n",
       "</table>\n",
       "</div>"
      ],
      "text/plain": [
       "   tweet_id     label\n",
       "0  00BHHHP1 -0.006287\n",
       "1  00UNMD0E  0.808357\n",
       "2  01AXPTJF  0.212385\n",
       "3  01HOEQJW  0.994107\n",
       "4  01JUKMAO  0.177752"
      ]
     },
     "execution_count": 93,
     "metadata": {
      "tags": []
     },
     "output_type": "execute_result"
    }
   ],
   "source": [
    "submission.head()"
   ]
  },
  {
   "cell_type": "markdown",
   "metadata": {
    "colab_type": "text",
    "id": "dyeUJHzklzFY"
   },
   "source": [
    "Yaaaaaaaaaaaaaaaaaaayyyyyyy!!!!!"
   ]
  },
  {
   "cell_type": "code",
   "execution_count": null,
   "metadata": {
    "colab": {},
    "colab_type": "code",
    "id": "hba4G8Wkl-JL"
   },
   "outputs": [],
   "source": [
    "submission.to_csv('first_baseline.csv', index=False)"
   ]
  },
  {
   "cell_type": "markdown",
   "metadata": {
    "colab_type": "text",
    "id": "HJsAmv6SmFat"
   },
   "source": [
    "## Future Ideas to try\n",
    "\n",
    "- [Data] Preprocessing\n",
    "   * SentencePiece (subword tokenization)\n",
    "- [Data] Language Model\n",
    "   * Incorporate additional data during language model (eg: test set, additional social media datasets)\n",
    "- [Model] Ensembling using K fold cross validation [TODO : Link] : average of all predictions.\n",
    "- [Model] Transformer variants, AWD_QRNN\n",
    "- [Model] Blending : Models with higher predictions will get higher weights where as models with lower predictions will get lower weights [TODO: Link] \n",
    "- [Model] Mixed Precision Training\n",
    "- [Model] Use fit_one_cycle and customize the learning rate. \n",
    "- [Optimizer] Currently we use ADAM, try with RADAM, Ranger optimizer variants\n",
    "- [HyperParameter Tuning] Play with hyperparameters\n",
    "- [Experiment Tracking] Integrating callbacks for Weights and Biases [TODO: Link]  \n",
    "\n",
    "\n"
   ]
  },
  {
   "cell_type": "code",
   "execution_count": null,
   "metadata": {
    "colab": {},
    "colab_type": "code",
    "id": "HlNwToK3nYoU"
   },
   "outputs": [],
   "source": []
  }
 ],
 "metadata": {
  "accelerator": "GPU",
  "colab": {
   "name": "04_zindi_vaccination.ipynb",
   "provenance": []
  },
  "kernelspec": {
   "display_name": "Python 3",
   "language": "python",
   "name": "python3"
  },
  "language_info": {
   "codemirror_mode": {
    "name": "ipython",
    "version": 3
   },
   "file_extension": ".py",
   "mimetype": "text/x-python",
   "name": "python",
   "nbconvert_exporter": "python",
   "pygments_lexer": "ipython3",
   "version": "3.6.12"
  }
 },
 "nbformat": 4,
 "nbformat_minor": 4
}
